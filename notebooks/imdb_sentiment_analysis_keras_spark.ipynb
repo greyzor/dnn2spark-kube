{
 "cells": [
  {
   "cell_type": "markdown",
   "metadata": {},
   "source": [
    "## Imdb Dataset reviews classification using Keras model over Spark"
   ]
  },
  {
   "cell_type": "markdown",
   "metadata": {},
   "source": [
    "## https://keras.io/datasets/#imdb-movie-reviews-sentiment-classification"
   ]
  },
  {
   "cell_type": "markdown",
   "metadata": {},
   "source": [
    "IMDB Movie reviews sentiment classification\n",
    "\n",
    "Dataset of 25,000 movies reviews from IMDB, labeled by sentiment (positive/negative). Reviews have been preprocessed, and each review is encoded as a sequence of word indexes (integers). For convenience, words are indexed by overall frequency in the dataset, so that for instance the integer \"3\" encodes the 3rd most frequent word in the data. This allows for quick filtering operations such as: \"only consider the top 10,000 most common words, but eliminate the top 20 most common words\".\n",
    "\n",
    "As a convention, \"0\" does not stand for a specific word, but instead is used to encode any unknown word."
   ]
  },
  {
   "cell_type": "code",
   "execution_count": null,
   "metadata": {},
   "outputs": [],
   "source": [
    "!pip install keras tensorflow elephas"
   ]
  },
  {
   "cell_type": "code",
   "execution_count": 1,
   "metadata": {},
   "outputs": [
    {
     "name": "stderr",
     "output_type": "stream",
     "text": [
      "Using TensorFlow backend.\n"
     ]
    }
   ],
   "source": [
    "from keras.datasets import imdb\n",
    "\n",
    "(x_train, y_train), (x_test, y_test) = imdb.load_data(path=\"imdb.npz\",\n",
    "                                                      num_words=None,\n",
    "                                                      skip_top=0,\n",
    "                                                      maxlen=None,\n",
    "                                                      seed=113,\n",
    "                                                      start_char=1,\n",
    "                                                      oov_char=2,\n",
    "                                                      index_from=3)"
   ]
  },
  {
   "cell_type": "markdown",
   "metadata": {},
   "source": [
    "## Train this kind of Tensorflow model\n",
    "### https://github.com/tensorflow/models/tree/master/research/sentiment_analysis"
   ]
  },
  {
   "cell_type": "markdown",
   "metadata": {},
   "source": [
    "## Explore imdb data"
   ]
  },
  {
   "cell_type": "code",
   "execution_count": 2,
   "metadata": {},
   "outputs": [
    {
     "name": "stdout",
     "output_type": "stream",
     "text": [
      "(25000,) (25000,) (25000,) (25000,)\n"
     ]
    }
   ],
   "source": [
    "print(x_train.shape, y_train.shape, x_test.shape, y_test.shape)"
   ]
  },
  {
   "cell_type": "code",
   "execution_count": 3,
   "metadata": {},
   "outputs": [
    {
     "data": {
      "text/plain": [
       "(218, 189)"
      ]
     },
     "execution_count": 3,
     "metadata": {},
     "output_type": "execute_result"
    }
   ],
   "source": [
    "len(x_train[0]), len(x_train[1])"
   ]
  },
  {
   "cell_type": "code",
   "execution_count": 4,
   "metadata": {},
   "outputs": [
    {
     "data": {
      "text/plain": [
       "[1, 14, 22, 16, 43, 530, 973, 1622, 1385, 65]"
      ]
     },
     "execution_count": 4,
     "metadata": {},
     "output_type": "execute_result"
    }
   ],
   "source": [
    "x_train[0][0:10] # first ten frequency-integer-encoded terms"
   ]
  },
  {
   "cell_type": "code",
   "execution_count": 5,
   "metadata": {},
   "outputs": [
    {
     "data": {
      "text/plain": [
       "array([1, 0, 0])"
      ]
     },
     "execution_count": 5,
     "metadata": {},
     "output_type": "execute_result"
    }
   ],
   "source": [
    "y_train[0:3]"
   ]
  },
  {
   "cell_type": "markdown",
   "metadata": {},
   "source": [
    "## Utilities for decoding pre-encoded reviews"
   ]
  },
  {
   "cell_type": "code",
   "execution_count": 6,
   "metadata": {},
   "outputs": [],
   "source": [
    "# A dictionary mapping words to an integer index\n",
    "word_index = imdb.get_word_index()\n",
    "\n",
    "# The first indices are reserved\n",
    "word_index = {k:(v+3) for k,v in word_index.items()} \n",
    "word_index[\"<PAD>\"] = 0\n",
    "word_index[\"<START>\"] = 1\n",
    "word_index[\"<UNK>\"] = 2  # unknown\n",
    "word_index[\"<UNUSED>\"] = 3\n",
    "\n",
    "reverse_word_index = dict([(value, key) for (key, value) in word_index.items()])\n",
    "\n",
    "def decode_review(text):\n",
    "    return ' '.join([reverse_word_index.get(i, '?') for i in text])"
   ]
  },
  {
   "cell_type": "code",
   "execution_count": 7,
   "metadata": {},
   "outputs": [
    {
     "data": {
      "text/plain": [
       "(\"<START> this film was just brilliant casting location scenery story direction everyone's really suited the part they played and you could just imagine being there robert redford's is an amazing actor and now the same being director norman's father came from the same scottish island as myself so i loved the fact there was a real connection with this film the witty remarks throughout the film were great it was just brilliant so much that i bought the film as soon as it was released for retail and would recommend it to everyone to watch and the fly fishing was amazing really cried at the end it was so sad and you know what they say if you cry at a film it must have been good and this definitely was also congratulations to the two little boy's that played the part's of norman and paul they were just brilliant children are often left out of the praising list i think because the stars that play them all grown up are such a big profile for the whole film but these children are amazing and should be praised for what they have done don't you think the whole story was so lovely because it was true and was someone's life after all that was shared with us all\",\n",
       " 1)"
      ]
     },
     "execution_count": 7,
     "metadata": {},
     "output_type": "execute_result"
    }
   ],
   "source": [
    "decode_review(x_train[0]), y_train[0]"
   ]
  },
  {
   "cell_type": "markdown",
   "metadata": {},
   "source": [
    "## Prepare the data"
   ]
  },
  {
   "cell_type": "markdown",
   "metadata": {},
   "source": [
    "### https://www.tensorflow.org/tutorials/keras/basic_text_classification\n",
    "\n",
    "We can pad the arrays so they all have the same length, then create an integer tensor of shape max_length * num_reviews. We can use an embedding layer capable of handling this shape as the first layer in our network."
   ]
  },
  {
   "cell_type": "code",
   "execution_count": 8,
   "metadata": {},
   "outputs": [],
   "source": [
    "import tensorflow as tf\n",
    "import keras"
   ]
  },
  {
   "cell_type": "code",
   "execution_count": 9,
   "metadata": {},
   "outputs": [],
   "source": [
    "seq_len = 256\n",
    "\n",
    "# Since the movie reviews must be the same length, we will use the pad_sequences function to standardize the lengths:\n",
    "x_train = keras.preprocessing.sequence.pad_sequences(x_train,\n",
    "                                                        value=word_index[\"<PAD>\"],\n",
    "                                                        padding='post',\n",
    "                                                        maxlen=seq_len)\n",
    "\n",
    "x_test = keras.preprocessing.sequence.pad_sequences(x_test,\n",
    "                                                        value=word_index[\"<PAD>\"],\n",
    "                                                        padding='post',\n",
    "                                                        maxlen=seq_len)"
   ]
  },
  {
   "cell_type": "code",
   "execution_count": 10,
   "metadata": {},
   "outputs": [
    {
     "data": {
      "text/plain": [
       "(256, 256)"
      ]
     },
     "execution_count": 10,
     "metadata": {},
     "output_type": "execute_result"
    }
   ],
   "source": [
    "len(x_train[0]), len(x_train[1])"
   ]
  },
  {
   "cell_type": "code",
   "execution_count": 11,
   "metadata": {},
   "outputs": [
    {
     "name": "stdout",
     "output_type": "stream",
     "text": [
      "[    1    14    22    16    43   530   973  1622  1385    65   458  4468\n",
      "    66  3941     4   173    36   256     5    25   100    43   838   112\n",
      "    50   670 22665     9    35   480   284     5   150     4   172   112\n",
      "   167 21631   336   385    39     4   172  4536  1111    17   546    38\n",
      "    13   447     4   192    50    16     6   147  2025    19    14    22\n",
      "     4  1920  4613   469     4    22    71    87    12    16    43   530\n",
      "    38    76    15    13  1247     4    22    17   515    17    12    16\n",
      "   626    18 19193     5    62   386    12     8   316     8   106     5\n",
      "     4  2223  5244    16   480    66  3785    33     4   130    12    16\n",
      "    38   619     5    25   124    51    36   135    48    25  1415    33\n",
      "     6    22    12   215    28    77    52     5    14   407    16    82\n",
      " 10311     8     4   107   117  5952    15   256     4 31050     7  3766\n",
      "     5   723    36    71    43   530   476    26   400   317    46     7\n",
      "     4 12118  1029    13   104    88     4   381    15   297    98    32\n",
      "  2071    56    26   141     6   194  7486    18     4   226    22    21\n",
      "   134   476    26   480     5   144    30  5535    18    51    36    28\n",
      "   224    92    25   104     4   226    65    16    38  1334    88    12\n",
      "    16   283     5    16  4472   113   103    32    15    16  5345    19\n",
      "   178    32     0     0     0     0     0     0     0     0     0     0\n",
      "     0     0     0     0     0     0     0     0     0     0     0     0\n",
      "     0     0     0     0     0     0     0     0     0     0     0     0\n",
      "     0     0     0     0]\n"
     ]
    }
   ],
   "source": [
    "print(x_train[0]) # max value is 10000, ie: vocabulary size"
   ]
  },
  {
   "cell_type": "markdown",
   "metadata": {},
   "source": [
    "## Build a keras sequential model"
   ]
  },
  {
   "cell_type": "code",
   "execution_count": 12,
   "metadata": {},
   "outputs": [
    {
     "data": {
      "text/plain": [
       "88587"
      ]
     },
     "execution_count": 12,
     "metadata": {},
     "output_type": "execute_result"
    }
   ],
   "source": [
    "max(list(reverse_word_index.keys()))"
   ]
  },
  {
   "cell_type": "code",
   "execution_count": 13,
   "metadata": {},
   "outputs": [
    {
     "name": "stdout",
     "output_type": "stream",
     "text": [
      "WARNING:tensorflow:From /opt/conda/lib/python3.7/site-packages/tensorflow/python/framework/op_def_library.py:263: colocate_with (from tensorflow.python.framework.ops) is deprecated and will be removed in a future version.\n",
      "Instructions for updating:\n",
      "Colocations handled automatically by placer.\n",
      "_________________________________________________________________\n",
      "Layer (type)                 Output Shape              Param #   \n",
      "=================================================================\n",
      "embedding_1 (Embedding)      (None, None, 16)          1417392   \n",
      "_________________________________________________________________\n",
      "global_average_pooling1d_1 ( (None, 16)                0         \n",
      "_________________________________________________________________\n",
      "dense_1 (Dense)              (None, 16)                272       \n",
      "_________________________________________________________________\n",
      "dense_2 (Dense)              (None, 1)                 17        \n",
      "=================================================================\n",
      "Total params: 1,417,681\n",
      "Trainable params: 1,417,681\n",
      "Non-trainable params: 0\n",
      "_________________________________________________________________\n"
     ]
    }
   ],
   "source": [
    "# input shape is the vocabulary count used for the movie reviews (10,000 words)\n",
    "vocab_size = max(list(reverse_word_index.keys())) # 10000 # FIXME ??\n",
    "\n",
    "model = keras.Sequential()\n",
    "model.add(keras.layers.Embedding(vocab_size, 16))\n",
    "model.add(keras.layers.GlobalAveragePooling1D())\n",
    "model.add(keras.layers.Dense(16, activation=tf.nn.relu))\n",
    "model.add(keras.layers.Dense(1, activation=tf.nn.sigmoid))\n",
    "\n",
    "model.summary()"
   ]
  },
  {
   "cell_type": "markdown",
   "metadata": {},
   "source": [
    "The layers are stacked sequentially to build the classifier:\n",
    "\n",
    "- The first layer is an Embedding layer. This layer takes the integer-encoded vocabulary and looks up the embedding vector for each word-index. These vectors are learned as the model trains. The vectors add a dimension to the output array. The resulting dimensions are: (batch, sequence, embedding).\n",
    "\n",
    "- Next, a GlobalAveragePooling1D layer returns a fixed-length output vector for each example by averaging over the sequence dimension. This allows the model to handle input of variable length, in the simplest way possible.\n",
    "This fixed-length output vector is piped through a fully-connected (Dense) layer with 16 hidden units.\n",
    "\n",
    "- The last layer is densely connected with a single output node. Using the sigmoid activation function, this value is a float between 0 and 1, representing a probability, or confidence level."
   ]
  },
  {
   "cell_type": "markdown",
   "metadata": {},
   "source": [
    "## Loss function and Optimizer\n",
    "\n",
    "A model needs a loss function and an optimizer for training. Since this is a binary classification problem and the model outputs a probability (a single-unit layer with a sigmoid activation), we'll use the binary_crossentropy loss function.\n",
    "\n",
    "This isn't the only choice for a loss function, you could, for instance, choose mean_squared_error. But, generally, binary_crossentropy is better for dealing with probabilities—it measures the \"distance\" between probability distributions, or in our case, between the ground-truth distribution and the predictions."
   ]
  },
  {
   "cell_type": "code",
   "execution_count": 14,
   "metadata": {},
   "outputs": [],
   "source": [
    "model.compile(optimizer='adam',\n",
    "              loss='binary_crossentropy',\n",
    "              metrics=['acc'])"
   ]
  },
  {
   "cell_type": "markdown",
   "metadata": {},
   "source": [
    "## Distribute the keras model over Spark\n",
    "### https://towardsdatascience.com/how-to-train-your-neural-networks-in-parallel-with-keras-and-apache-spark-ea8a3f48cae6"
   ]
  },
  {
   "cell_type": "code",
   "execution_count": 15,
   "metadata": {},
   "outputs": [],
   "source": [
    "import pyspark\n",
    "\n",
    "spark = pyspark.sql.SparkSession.builder\\\n",
    "    .appName('imdb-sentiment')\\\n",
    "    .getOrCreate()"
   ]
  },
  {
   "cell_type": "code",
   "execution_count": 16,
   "metadata": {},
   "outputs": [
    {
     "name": "stdout",
     "output_type": "stream",
     "text": [
      "WARNING\n"
     ]
    }
   ],
   "source": [
    "from elephas.utils.rdd_utils import to_simple_rdd\n",
    "rdd = to_simple_rdd(spark._sc, x_train, y_train)"
   ]
  },
  {
   "cell_type": "markdown",
   "metadata": {},
   "source": [
    "### Distributed Spark/Keras fit\n",
    "No cross-validation in this example."
   ]
  },
  {
   "cell_type": "code",
   "execution_count": 28,
   "metadata": {
    "scrolled": true
   },
   "outputs": [
    {
     "name": "stdout",
     "output_type": "stream",
     "text": [
      ">>> Fit model\n",
      " * Serving Flask app \"elephas.parameter.server\" (lazy loading)\n",
      " * Environment: production\n",
      "   WARNING: This is a development server. Do not use it in a production deployment.\n",
      "   Use a production WSGI server instead.\n",
      " * Debug mode: off\n"
     ]
    },
    {
     "name": "stderr",
     "output_type": "stream",
     "text": [
      " * Running on http://172.19.0.2:4000/ (Press CTRL+C to quit)\n"
     ]
    },
    {
     "name": "stdout",
     "output_type": "stream",
     "text": [
      ">>> Initialize workers\n",
      ">>> Distribute load\n"
     ]
    },
    {
     "name": "stderr",
     "output_type": "stream",
     "text": [
      "172.19.0.2 - - [07/Jun/2019 11:43:26] \"\u001b[37mGET /parameters HTTP/1.1\u001b[0m\" 200 -\n",
      "172.19.0.2 - - [07/Jun/2019 11:43:26] \"\u001b[37mGET /parameters HTTP/1.1\u001b[0m\" 200 -\n",
      "172.19.0.2 - - [07/Jun/2019 11:43:26] \"\u001b[37mGET /parameters HTTP/1.1\u001b[0m\" 200 -\n",
      "172.19.0.2 - - [07/Jun/2019 11:43:26] \"\u001b[37mGET /parameters HTTP/1.1\u001b[0m\" 200 -\n",
      "172.19.0.2 - - [07/Jun/2019 11:43:30] \"\u001b[37mPOST /update HTTP/1.1\u001b[0m\" 200 -\n",
      "172.19.0.2 - - [07/Jun/2019 11:43:30] \"\u001b[37mGET /parameters HTTP/1.1\u001b[0m\" 200 -\n",
      "172.19.0.2 - - [07/Jun/2019 11:43:30] \"\u001b[37mPOST /update HTTP/1.1\u001b[0m\" 200 -\n",
      "172.19.0.2 - - [07/Jun/2019 11:43:30] \"\u001b[37mPOST /update HTTP/1.1\u001b[0m\" 200 -\n",
      "172.19.0.2 - - [07/Jun/2019 11:43:30] \"\u001b[37mGET /parameters HTTP/1.1\u001b[0m\" 200 -\n",
      "172.19.0.2 - - [07/Jun/2019 11:43:30] \"\u001b[37mGET /parameters HTTP/1.1\u001b[0m\" 200 -\n",
      "172.19.0.2 - - [07/Jun/2019 11:43:30] \"\u001b[37mPOST /update HTTP/1.1\u001b[0m\" 200 -\n",
      "172.19.0.2 - - [07/Jun/2019 11:43:30] \"\u001b[37mGET /parameters HTTP/1.1\u001b[0m\" 200 -\n",
      "172.19.0.2 - - [07/Jun/2019 11:43:31] \"\u001b[37mPOST /update HTTP/1.1\u001b[0m\" 200 -\n",
      "172.19.0.2 - - [07/Jun/2019 11:43:32] \"\u001b[37mGET /parameters HTTP/1.1\u001b[0m\" 200 -\n",
      "172.19.0.2 - - [07/Jun/2019 11:43:33] \"\u001b[37mPOST /update HTTP/1.1\u001b[0m\" 200 -\n",
      "172.19.0.2 - - [07/Jun/2019 11:43:33] \"\u001b[37mPOST /update HTTP/1.1\u001b[0m\" 200 -\n",
      "172.19.0.2 - - [07/Jun/2019 11:43:33] \"\u001b[37mGET /parameters HTTP/1.1\u001b[0m\" 200 -\n",
      "172.19.0.2 - - [07/Jun/2019 11:43:33] \"\u001b[37mPOST /update HTTP/1.1\u001b[0m\" 200 -\n",
      "172.19.0.2 - - [07/Jun/2019 11:43:33] \"\u001b[37mGET /parameters HTTP/1.1\u001b[0m\" 200 -\n",
      "172.19.0.2 - - [07/Jun/2019 11:43:33] \"\u001b[37mGET /parameters HTTP/1.1\u001b[0m\" 200 -\n",
      "172.19.0.2 - - [07/Jun/2019 11:43:33] \"\u001b[37mPOST /update HTTP/1.1\u001b[0m\" 200 -\n",
      "172.19.0.2 - - [07/Jun/2019 11:43:33] \"\u001b[37mGET /parameters HTTP/1.1\u001b[0m\" 200 -\n",
      "172.19.0.2 - - [07/Jun/2019 11:43:35] \"\u001b[37mPOST /update HTTP/1.1\u001b[0m\" 200 -\n",
      "172.19.0.2 - - [07/Jun/2019 11:43:35] \"\u001b[37mGET /parameters HTTP/1.1\u001b[0m\" 200 -\n",
      "172.19.0.2 - - [07/Jun/2019 11:43:35] \"\u001b[37mPOST /update HTTP/1.1\u001b[0m\" 200 -\n",
      "172.19.0.2 - - [07/Jun/2019 11:43:35] \"\u001b[37mGET /parameters HTTP/1.1\u001b[0m\" 200 -\n",
      "172.19.0.2 - - [07/Jun/2019 11:43:35] \"\u001b[37mPOST /update HTTP/1.1\u001b[0m\" 200 -\n",
      "172.19.0.2 - - [07/Jun/2019 11:43:35] \"\u001b[37mGET /parameters HTTP/1.1\u001b[0m\" 200 -\n",
      "172.19.0.2 - - [07/Jun/2019 11:43:36] \"\u001b[37mPOST /update HTTP/1.1\u001b[0m\" 200 -\n",
      "172.19.0.2 - - [07/Jun/2019 11:43:36] \"\u001b[37mGET /parameters HTTP/1.1\u001b[0m\" 200 -\n",
      "172.19.0.2 - - [07/Jun/2019 11:43:37] \"\u001b[37mPOST /update HTTP/1.1\u001b[0m\" 200 -\n",
      "172.19.0.2 - - [07/Jun/2019 11:43:37] \"\u001b[37mGET /parameters HTTP/1.1\u001b[0m\" 200 -\n",
      "172.19.0.2 - - [07/Jun/2019 11:43:37] \"\u001b[37mPOST /update HTTP/1.1\u001b[0m\" 200 -\n",
      "172.19.0.2 - - [07/Jun/2019 11:43:37] \"\u001b[37mGET /parameters HTTP/1.1\u001b[0m\" 200 -\n",
      "172.19.0.2 - - [07/Jun/2019 11:43:38] \"\u001b[37mPOST /update HTTP/1.1\u001b[0m\" 200 -\n",
      "172.19.0.2 - - [07/Jun/2019 11:43:38] \"\u001b[37mGET /parameters HTTP/1.1\u001b[0m\" 200 -\n",
      "172.19.0.2 - - [07/Jun/2019 11:43:38] \"\u001b[37mPOST /update HTTP/1.1\u001b[0m\" 200 -\n",
      "172.19.0.2 - - [07/Jun/2019 11:43:38] \"\u001b[37mGET /parameters HTTP/1.1\u001b[0m\" 200 -\n",
      "172.19.0.2 - - [07/Jun/2019 11:43:39] \"\u001b[37mPOST /update HTTP/1.1\u001b[0m\" 200 -\n",
      "172.19.0.2 - - [07/Jun/2019 11:43:39] \"\u001b[37mGET /parameters HTTP/1.1\u001b[0m\" 200 -\n",
      "172.19.0.2 - - [07/Jun/2019 11:43:39] \"\u001b[37mPOST /update HTTP/1.1\u001b[0m\" 200 -\n",
      "172.19.0.2 - - [07/Jun/2019 11:43:39] \"\u001b[37mGET /parameters HTTP/1.1\u001b[0m\" 200 -\n",
      "172.19.0.2 - - [07/Jun/2019 11:43:40] \"\u001b[37mPOST /update HTTP/1.1\u001b[0m\" 200 -\n",
      "172.19.0.2 - - [07/Jun/2019 11:43:40] \"\u001b[37mGET /parameters HTTP/1.1\u001b[0m\" 200 -\n",
      "172.19.0.2 - - [07/Jun/2019 11:43:40] \"\u001b[37mPOST /update HTTP/1.1\u001b[0m\" 200 -\n",
      "172.19.0.2 - - [07/Jun/2019 11:43:40] \"\u001b[37mGET /parameters HTTP/1.1\u001b[0m\" 200 -\n",
      "172.19.0.2 - - [07/Jun/2019 11:43:41] \"\u001b[37mPOST /update HTTP/1.1\u001b[0m\" 200 -\n",
      "172.19.0.2 - - [07/Jun/2019 11:43:41] \"\u001b[37mGET /parameters HTTP/1.1\u001b[0m\" 200 -\n",
      "172.19.0.2 - - [07/Jun/2019 11:43:42] \"\u001b[37mPOST /update HTTP/1.1\u001b[0m\" 200 -\n",
      "172.19.0.2 - - [07/Jun/2019 11:43:42] \"\u001b[37mGET /parameters HTTP/1.1\u001b[0m\" 200 -\n",
      "172.19.0.2 - - [07/Jun/2019 11:43:42] \"\u001b[37mPOST /update HTTP/1.1\u001b[0m\" 200 -\n",
      "172.19.0.2 - - [07/Jun/2019 11:43:42] \"\u001b[37mGET /parameters HTTP/1.1\u001b[0m\" 200 -\n",
      "172.19.0.2 - - [07/Jun/2019 11:43:43] \"\u001b[37mPOST /update HTTP/1.1\u001b[0m\" 200 -\n",
      "172.19.0.2 - - [07/Jun/2019 11:43:43] \"\u001b[37mGET /parameters HTTP/1.1\u001b[0m\" 200 -\n",
      "172.19.0.2 - - [07/Jun/2019 11:43:43] \"\u001b[37mPOST /update HTTP/1.1\u001b[0m\" 200 -\n",
      "172.19.0.2 - - [07/Jun/2019 11:43:43] \"\u001b[37mGET /parameters HTTP/1.1\u001b[0m\" 200 -\n",
      "172.19.0.2 - - [07/Jun/2019 11:43:44] \"\u001b[37mPOST /update HTTP/1.1\u001b[0m\" 200 -\n",
      "172.19.0.2 - - [07/Jun/2019 11:43:44] \"\u001b[37mGET /parameters HTTP/1.1\u001b[0m\" 200 -\n",
      "172.19.0.2 - - [07/Jun/2019 11:43:45] \"\u001b[37mPOST /update HTTP/1.1\u001b[0m\" 200 -\n",
      "172.19.0.2 - - [07/Jun/2019 11:43:45] \"\u001b[37mGET /parameters HTTP/1.1\u001b[0m\" 200 -\n",
      "172.19.0.2 - - [07/Jun/2019 11:43:45] \"\u001b[37mPOST /update HTTP/1.1\u001b[0m\" 200 -\n",
      "172.19.0.2 - - [07/Jun/2019 11:43:45] \"\u001b[37mGET /parameters HTTP/1.1\u001b[0m\" 200 -\n",
      "172.19.0.2 - - [07/Jun/2019 11:43:45] \"\u001b[37mPOST /update HTTP/1.1\u001b[0m\" 200 -\n",
      "172.19.0.2 - - [07/Jun/2019 11:43:45] \"\u001b[37mGET /parameters HTTP/1.1\u001b[0m\" 200 -\n",
      "172.19.0.2 - - [07/Jun/2019 11:43:46] \"\u001b[37mPOST /update HTTP/1.1\u001b[0m\" 200 -\n",
      "172.19.0.2 - - [07/Jun/2019 11:43:46] \"\u001b[37mGET /parameters HTTP/1.1\u001b[0m\" 200 -\n",
      "172.19.0.2 - - [07/Jun/2019 11:43:47] \"\u001b[37mPOST /update HTTP/1.1\u001b[0m\" 200 -\n",
      "172.19.0.2 - - [07/Jun/2019 11:43:47] \"\u001b[37mGET /parameters HTTP/1.1\u001b[0m\" 200 -\n",
      "172.19.0.2 - - [07/Jun/2019 11:43:47] \"\u001b[37mPOST /update HTTP/1.1\u001b[0m\" 200 -\n",
      "172.19.0.2 - - [07/Jun/2019 11:43:47] \"\u001b[37mPOST /update HTTP/1.1\u001b[0m\" 200 -\n",
      "172.19.0.2 - - [07/Jun/2019 11:43:47] \"\u001b[37mGET /parameters HTTP/1.1\u001b[0m\" 200 -\n",
      "172.19.0.2 - - [07/Jun/2019 11:43:47] \"\u001b[37mGET /parameters HTTP/1.1\u001b[0m\" 200 -\n",
      "172.19.0.2 - - [07/Jun/2019 11:43:49] \"\u001b[37mPOST /update HTTP/1.1\u001b[0m\" 200 -\n",
      "172.19.0.2 - - [07/Jun/2019 11:43:49] \"\u001b[37mGET /parameters HTTP/1.1\u001b[0m\" 200 -\n",
      "172.19.0.2 - - [07/Jun/2019 11:43:49] \"\u001b[37mPOST /update HTTP/1.1\u001b[0m\" 200 -\n",
      "172.19.0.2 - - [07/Jun/2019 11:43:49] \"\u001b[37mGET /parameters HTTP/1.1\u001b[0m\" 200 -\n",
      "172.19.0.2 - - [07/Jun/2019 11:43:49] \"\u001b[37mPOST /update HTTP/1.1\u001b[0m\" 200 -\n",
      "172.19.0.2 - - [07/Jun/2019 11:43:49] \"\u001b[37mGET /parameters HTTP/1.1\u001b[0m\" 200 -\n",
      "172.19.0.2 - - [07/Jun/2019 11:43:50] \"\u001b[37mPOST /update HTTP/1.1\u001b[0m\" 200 -\n",
      "172.19.0.2 - - [07/Jun/2019 11:43:50] \"\u001b[37mGET /parameters HTTP/1.1\u001b[0m\" 200 -\n",
      "172.19.0.2 - - [07/Jun/2019 11:43:51] \"\u001b[37mPOST /update HTTP/1.1\u001b[0m\" 200 -\n",
      "172.19.0.2 - - [07/Jun/2019 11:43:51] \"\u001b[37mGET /parameters HTTP/1.1\u001b[0m\" 200 -\n",
      "172.19.0.2 - - [07/Jun/2019 11:43:51] \"\u001b[37mPOST /update HTTP/1.1\u001b[0m\" 200 -\n",
      "172.19.0.2 - - [07/Jun/2019 11:43:51] \"\u001b[37mGET /parameters HTTP/1.1\u001b[0m\" 200 -\n",
      "172.19.0.2 - - [07/Jun/2019 11:43:51] \"\u001b[37mPOST /update HTTP/1.1\u001b[0m\" 200 -\n",
      "172.19.0.2 - - [07/Jun/2019 11:43:51] \"\u001b[37mGET /parameters HTTP/1.1\u001b[0m\" 200 -\n",
      "172.19.0.2 - - [07/Jun/2019 11:43:52] \"\u001b[37mPOST /update HTTP/1.1\u001b[0m\" 200 -\n",
      "172.19.0.2 - - [07/Jun/2019 11:43:52] \"\u001b[37mGET /parameters HTTP/1.1\u001b[0m\" 200 -\n",
      "172.19.0.2 - - [07/Jun/2019 11:43:53] \"\u001b[37mPOST /update HTTP/1.1\u001b[0m\" 200 -\n",
      "172.19.0.2 - - [07/Jun/2019 11:43:53] \"\u001b[37mGET /parameters HTTP/1.1\u001b[0m\" 200 -\n",
      "172.19.0.2 - - [07/Jun/2019 11:43:53] \"\u001b[37mPOST /update HTTP/1.1\u001b[0m\" 200 -\n",
      "172.19.0.2 - - [07/Jun/2019 11:43:53] \"\u001b[37mGET /parameters HTTP/1.1\u001b[0m\" 200 -\n",
      "172.19.0.2 - - [07/Jun/2019 11:43:54] \"\u001b[37mPOST /update HTTP/1.1\u001b[0m\" 200 -\n",
      "172.19.0.2 - - [07/Jun/2019 11:43:54] \"\u001b[37mGET /parameters HTTP/1.1\u001b[0m\" 200 -\n",
      "172.19.0.2 - - [07/Jun/2019 11:43:54] \"\u001b[37mPOST /update HTTP/1.1\u001b[0m\" 200 -\n",
      "172.19.0.2 - - [07/Jun/2019 11:43:54] \"\u001b[37mGET /parameters HTTP/1.1\u001b[0m\" 200 -\n",
      "172.19.0.2 - - [07/Jun/2019 11:43:55] \"\u001b[37mPOST /update HTTP/1.1\u001b[0m\" 200 -\n",
      "172.19.0.2 - - [07/Jun/2019 11:43:55] \"\u001b[37mGET /parameters HTTP/1.1\u001b[0m\" 200 -\n",
      "172.19.0.2 - - [07/Jun/2019 11:43:56] \"\u001b[37mPOST /update HTTP/1.1\u001b[0m\" 200 -\n",
      "172.19.0.2 - - [07/Jun/2019 11:43:56] \"\u001b[37mGET /parameters HTTP/1.1\u001b[0m\" 200 -\n",
      "172.19.0.2 - - [07/Jun/2019 11:43:56] \"\u001b[37mPOST /update HTTP/1.1\u001b[0m\" 200 -\n",
      "172.19.0.2 - - [07/Jun/2019 11:43:56] \"\u001b[37mGET /parameters HTTP/1.1\u001b[0m\" 200 -\n",
      "172.19.0.2 - - [07/Jun/2019 11:43:57] \"\u001b[37mPOST /update HTTP/1.1\u001b[0m\" 200 -\n",
      "172.19.0.2 - - [07/Jun/2019 11:43:57] \"\u001b[37mPOST /update HTTP/1.1\u001b[0m\" 200 -\n",
      "172.19.0.2 - - [07/Jun/2019 11:43:57] \"\u001b[37mGET /parameters HTTP/1.1\u001b[0m\" 200 -\n"
     ]
    },
    {
     "name": "stderr",
     "output_type": "stream",
     "text": [
      "172.19.0.2 - - [07/Jun/2019 11:43:57] \"\u001b[37mGET /parameters HTTP/1.1\u001b[0m\" 200 -\n",
      "172.19.0.2 - - [07/Jun/2019 11:43:58] \"\u001b[37mPOST /update HTTP/1.1\u001b[0m\" 200 -\n",
      "172.19.0.2 - - [07/Jun/2019 11:43:58] \"\u001b[37mGET /parameters HTTP/1.1\u001b[0m\" 200 -\n",
      "172.19.0.2 - - [07/Jun/2019 11:43:58] \"\u001b[37mPOST /update HTTP/1.1\u001b[0m\" 200 -\n",
      "172.19.0.2 - - [07/Jun/2019 11:43:58] \"\u001b[37mGET /parameters HTTP/1.1\u001b[0m\" 200 -\n",
      "172.19.0.2 - - [07/Jun/2019 11:43:59] \"\u001b[37mPOST /update HTTP/1.1\u001b[0m\" 200 -\n",
      "172.19.0.2 - - [07/Jun/2019 11:43:59] \"\u001b[37mGET /parameters HTTP/1.1\u001b[0m\" 200 -\n",
      "172.19.0.2 - - [07/Jun/2019 11:43:59] \"\u001b[37mPOST /update HTTP/1.1\u001b[0m\" 200 -\n",
      "172.19.0.2 - - [07/Jun/2019 11:44:00] \"\u001b[37mGET /parameters HTTP/1.1\u001b[0m\" 200 -\n",
      "172.19.0.2 - - [07/Jun/2019 11:44:00] \"\u001b[37mPOST /update HTTP/1.1\u001b[0m\" 200 -\n",
      "172.19.0.2 - - [07/Jun/2019 11:44:00] \"\u001b[37mGET /parameters HTTP/1.1\u001b[0m\" 200 -\n",
      "172.19.0.2 - - [07/Jun/2019 11:44:00] \"\u001b[37mPOST /update HTTP/1.1\u001b[0m\" 200 -\n",
      "172.19.0.2 - - [07/Jun/2019 11:44:00] \"\u001b[37mGET /parameters HTTP/1.1\u001b[0m\" 200 -\n",
      "172.19.0.2 - - [07/Jun/2019 11:44:01] \"\u001b[37mPOST /update HTTP/1.1\u001b[0m\" 200 -\n",
      "172.19.0.2 - - [07/Jun/2019 11:44:01] \"\u001b[37mGET /parameters HTTP/1.1\u001b[0m\" 200 -\n",
      "172.19.0.2 - - [07/Jun/2019 11:44:02] \"\u001b[37mPOST /update HTTP/1.1\u001b[0m\" 200 -\n",
      "172.19.0.2 - - [07/Jun/2019 11:44:02] \"\u001b[37mGET /parameters HTTP/1.1\u001b[0m\" 200 -\n",
      "172.19.0.2 - - [07/Jun/2019 11:44:02] \"\u001b[37mPOST /update HTTP/1.1\u001b[0m\" 200 -\n",
      "172.19.0.2 - - [07/Jun/2019 11:44:02] \"\u001b[37mGET /parameters HTTP/1.1\u001b[0m\" 200 -\n",
      "172.19.0.2 - - [07/Jun/2019 11:44:02] \"\u001b[37mPOST /update HTTP/1.1\u001b[0m\" 200 -\n",
      "172.19.0.2 - - [07/Jun/2019 11:44:02] \"\u001b[37mGET /parameters HTTP/1.1\u001b[0m\" 200 -\n",
      "172.19.0.2 - - [07/Jun/2019 11:44:03] \"\u001b[37mPOST /update HTTP/1.1\u001b[0m\" 200 -\n",
      "172.19.0.2 - - [07/Jun/2019 11:44:04] \"\u001b[37mGET /parameters HTTP/1.1\u001b[0m\" 200 -\n",
      "172.19.0.2 - - [07/Jun/2019 11:44:04] \"\u001b[37mPOST /update HTTP/1.1\u001b[0m\" 200 -\n",
      "172.19.0.2 - - [07/Jun/2019 11:44:04] \"\u001b[37mGET /parameters HTTP/1.1\u001b[0m\" 200 -\n",
      "172.19.0.2 - - [07/Jun/2019 11:44:05] \"\u001b[37mPOST /update HTTP/1.1\u001b[0m\" 200 -\n",
      "172.19.0.2 - - [07/Jun/2019 11:44:05] \"\u001b[37mGET /parameters HTTP/1.1\u001b[0m\" 200 -\n",
      "172.19.0.2 - - [07/Jun/2019 11:44:05] \"\u001b[37mPOST /update HTTP/1.1\u001b[0m\" 200 -\n",
      "172.19.0.2 - - [07/Jun/2019 11:44:05] \"\u001b[37mGET /parameters HTTP/1.1\u001b[0m\" 200 -\n",
      "172.19.0.2 - - [07/Jun/2019 11:44:06] \"\u001b[37mPOST /update HTTP/1.1\u001b[0m\" 200 -\n",
      "172.19.0.2 - - [07/Jun/2019 11:44:06] \"\u001b[37mGET /parameters HTTP/1.1\u001b[0m\" 200 -\n",
      "172.19.0.2 - - [07/Jun/2019 11:44:07] \"\u001b[37mPOST /update HTTP/1.1\u001b[0m\" 200 -\n",
      "172.19.0.2 - - [07/Jun/2019 11:44:07] \"\u001b[37mPOST /update HTTP/1.1\u001b[0m\" 200 -\n",
      "172.19.0.2 - - [07/Jun/2019 11:44:07] \"\u001b[37mGET /parameters HTTP/1.1\u001b[0m\" 200 -\n",
      "172.19.0.2 - - [07/Jun/2019 11:44:07] \"\u001b[37mGET /parameters HTTP/1.1\u001b[0m\" 200 -\n",
      "172.19.0.2 - - [07/Jun/2019 11:44:07] \"\u001b[37mPOST /update HTTP/1.1\u001b[0m\" 200 -\n",
      "172.19.0.2 - - [07/Jun/2019 11:44:07] \"\u001b[37mGET /parameters HTTP/1.1\u001b[0m\" 200 -\n",
      "172.19.0.2 - - [07/Jun/2019 11:44:08] \"\u001b[37mPOST /update HTTP/1.1\u001b[0m\" 200 -\n",
      "172.19.0.2 - - [07/Jun/2019 11:44:08] \"\u001b[37mGET /parameters HTTP/1.1\u001b[0m\" 200 -\n",
      "172.19.0.2 - - [07/Jun/2019 11:44:09] \"\u001b[37mPOST /update HTTP/1.1\u001b[0m\" 200 -\n",
      "172.19.0.2 - - [07/Jun/2019 11:44:09] \"\u001b[37mPOST /update HTTP/1.1\u001b[0m\" 200 -\n",
      "172.19.0.2 - - [07/Jun/2019 11:44:09] \"\u001b[37mPOST /update HTTP/1.1\u001b[0m\" 200 -\n",
      "172.19.0.2 - - [07/Jun/2019 11:44:09] \"\u001b[37mGET /parameters HTTP/1.1\u001b[0m\" 200 -\n",
      "172.19.0.2 - - [07/Jun/2019 11:44:09] \"\u001b[37mGET /parameters HTTP/1.1\u001b[0m\" 200 -\n",
      "172.19.0.2 - - [07/Jun/2019 11:44:09] \"\u001b[37mGET /parameters HTTP/1.1\u001b[0m\" 200 -\n",
      "172.19.0.2 - - [07/Jun/2019 11:44:10] \"\u001b[37mPOST /update HTTP/1.1\u001b[0m\" 200 -\n",
      "172.19.0.2 - - [07/Jun/2019 11:44:10] \"\u001b[37mGET /parameters HTTP/1.1\u001b[0m\" 200 -\n",
      "172.19.0.2 - - [07/Jun/2019 11:44:11] \"\u001b[37mPOST /update HTTP/1.1\u001b[0m\" 200 -\n",
      "172.19.0.2 - - [07/Jun/2019 11:44:11] \"\u001b[37mGET /parameters HTTP/1.1\u001b[0m\" 200 -\n",
      "172.19.0.2 - - [07/Jun/2019 11:44:11] \"\u001b[37mPOST /update HTTP/1.1\u001b[0m\" 200 -\n",
      "172.19.0.2 - - [07/Jun/2019 11:44:11] \"\u001b[37mPOST /update HTTP/1.1\u001b[0m\" 200 -\n",
      "172.19.0.2 - - [07/Jun/2019 11:44:11] \"\u001b[37mGET /parameters HTTP/1.1\u001b[0m\" 200 -\n",
      "172.19.0.2 - - [07/Jun/2019 11:44:11] \"\u001b[37mGET /parameters HTTP/1.1\u001b[0m\" 200 -\n",
      "172.19.0.2 - - [07/Jun/2019 11:44:12] \"\u001b[37mPOST /update HTTP/1.1\u001b[0m\" 200 -\n",
      "172.19.0.2 - - [07/Jun/2019 11:44:12] \"\u001b[37mGET /parameters HTTP/1.1\u001b[0m\" 200 -\n",
      "172.19.0.2 - - [07/Jun/2019 11:44:13] \"\u001b[37mPOST /update HTTP/1.1\u001b[0m\" 200 -\n",
      "172.19.0.2 - - [07/Jun/2019 11:44:13] \"\u001b[37mGET /parameters HTTP/1.1\u001b[0m\" 200 -\n",
      "172.19.0.2 - - [07/Jun/2019 11:44:13] \"\u001b[37mPOST /update HTTP/1.1\u001b[0m\" 200 -\n",
      "172.19.0.2 - - [07/Jun/2019 11:44:14] \"\u001b[37mPOST /update HTTP/1.1\u001b[0m\" 200 -\n",
      "172.19.0.2 - - [07/Jun/2019 11:44:14] \"\u001b[37mGET /parameters HTTP/1.1\u001b[0m\" 200 -\n",
      "172.19.0.2 - - [07/Jun/2019 11:44:14] \"\u001b[37mGET /parameters HTTP/1.1\u001b[0m\" 200 -\n",
      "172.19.0.2 - - [07/Jun/2019 11:44:14] \"\u001b[37mPOST /update HTTP/1.1\u001b[0m\" 200 -\n",
      "172.19.0.2 - - [07/Jun/2019 11:44:14] \"\u001b[37mGET /parameters HTTP/1.1\u001b[0m\" 200 -\n",
      "172.19.0.2 - - [07/Jun/2019 11:44:15] \"\u001b[37mPOST /update HTTP/1.1\u001b[0m\" 200 -\n",
      "172.19.0.2 - - [07/Jun/2019 11:44:15] \"\u001b[37mGET /parameters HTTP/1.1\u001b[0m\" 200 -\n",
      "172.19.0.2 - - [07/Jun/2019 11:44:16] \"\u001b[37mPOST /update HTTP/1.1\u001b[0m\" 200 -\n",
      "172.19.0.2 - - [07/Jun/2019 11:44:16] \"\u001b[37mGET /parameters HTTP/1.1\u001b[0m\" 200 -\n",
      "172.19.0.2 - - [07/Jun/2019 11:44:16] \"\u001b[37mPOST /update HTTP/1.1\u001b[0m\" 200 -\n",
      "172.19.0.2 - - [07/Jun/2019 11:44:16] \"\u001b[37mGET /parameters HTTP/1.1\u001b[0m\" 200 -\n",
      "172.19.0.2 - - [07/Jun/2019 11:44:17] \"\u001b[37mPOST /update HTTP/1.1\u001b[0m\" 200 -\n",
      "172.19.0.2 - - [07/Jun/2019 11:44:17] \"\u001b[37mGET /parameters HTTP/1.1\u001b[0m\" 200 -\n",
      "172.19.0.2 - - [07/Jun/2019 11:44:17] \"\u001b[37mPOST /update HTTP/1.1\u001b[0m\" 200 -\n",
      "172.19.0.2 - - [07/Jun/2019 11:44:17] \"\u001b[37mGET /parameters HTTP/1.1\u001b[0m\" 200 -\n",
      "172.19.0.2 - - [07/Jun/2019 11:44:18] \"\u001b[37mPOST /update HTTP/1.1\u001b[0m\" 200 -\n",
      "172.19.0.2 - - [07/Jun/2019 11:44:18] \"\u001b[37mPOST /update HTTP/1.1\u001b[0m\" 200 -\n",
      "172.19.0.2 - - [07/Jun/2019 11:44:18] \"\u001b[37mGET /parameters HTTP/1.1\u001b[0m\" 200 -\n",
      "172.19.0.2 - - [07/Jun/2019 11:44:19] \"\u001b[37mGET /parameters HTTP/1.1\u001b[0m\" 200 -\n",
      "172.19.0.2 - - [07/Jun/2019 11:44:19] \"\u001b[37mPOST /update HTTP/1.1\u001b[0m\" 200 -\n",
      "172.19.0.2 - - [07/Jun/2019 11:44:19] \"\u001b[37mGET /parameters HTTP/1.1\u001b[0m\" 200 -\n",
      "172.19.0.2 - - [07/Jun/2019 11:44:19] \"\u001b[37mPOST /update HTTP/1.1\u001b[0m\" 200 -\n",
      "172.19.0.2 - - [07/Jun/2019 11:44:19] \"\u001b[37mGET /parameters HTTP/1.1\u001b[0m\" 200 -\n",
      "172.19.0.2 - - [07/Jun/2019 11:44:21] \"\u001b[37mPOST /update HTTP/1.1\u001b[0m\" 200 -\n",
      "172.19.0.2 - - [07/Jun/2019 11:44:21] \"\u001b[37mGET /parameters HTTP/1.1\u001b[0m\" 200 -\n",
      "172.19.0.2 - - [07/Jun/2019 11:44:21] \"\u001b[37mPOST /update HTTP/1.1\u001b[0m\" 200 -\n",
      "172.19.0.2 - - [07/Jun/2019 11:44:21] \"\u001b[37mPOST /update HTTP/1.1\u001b[0m\" 200 -\n",
      "172.19.0.2 - - [07/Jun/2019 11:44:21] \"\u001b[37mPOST /update HTTP/1.1\u001b[0m\" 200 -\n",
      "172.19.0.2 - - [07/Jun/2019 11:44:21] \"\u001b[37mGET /parameters HTTP/1.1\u001b[0m\" 200 -\n",
      "172.19.0.2 - - [07/Jun/2019 11:44:21] \"\u001b[37mGET /parameters HTTP/1.1\u001b[0m\" 200 -\n",
      "172.19.0.2 - - [07/Jun/2019 11:44:21] \"\u001b[37mGET /parameters HTTP/1.1\u001b[0m\" 200 -\n",
      "172.19.0.2 - - [07/Jun/2019 11:44:23] \"\u001b[37mPOST /update HTTP/1.1\u001b[0m\" 200 -\n",
      "172.19.0.2 - - [07/Jun/2019 11:44:23] \"\u001b[37mPOST /update HTTP/1.1\u001b[0m\" 200 -\n",
      "172.19.0.2 - - [07/Jun/2019 11:44:23] \"\u001b[37mGET /parameters HTTP/1.1\u001b[0m\" 200 -\n",
      "172.19.0.2 - - [07/Jun/2019 11:44:23] \"\u001b[37mGET /parameters HTTP/1.1\u001b[0m\" 200 -\n",
      "172.19.0.2 - - [07/Jun/2019 11:44:23] \"\u001b[37mPOST /update HTTP/1.1\u001b[0m\" 200 -\n",
      "172.19.0.2 - - [07/Jun/2019 11:44:23] \"\u001b[37mGET /parameters HTTP/1.1\u001b[0m\" 200 -\n",
      "172.19.0.2 - - [07/Jun/2019 11:44:23] \"\u001b[37mPOST /update HTTP/1.1\u001b[0m\" 200 -\n",
      "172.19.0.2 - - [07/Jun/2019 11:44:23] \"\u001b[37mGET /parameters HTTP/1.1\u001b[0m\" 200 -\n",
      "172.19.0.2 - - [07/Jun/2019 11:44:25] \"\u001b[37mPOST /update HTTP/1.1\u001b[0m\" 200 -\n",
      "172.19.0.2 - - [07/Jun/2019 11:44:25] \"\u001b[37mGET /parameters HTTP/1.1\u001b[0m\" 200 -\n",
      "172.19.0.2 - - [07/Jun/2019 11:44:25] \"\u001b[37mPOST /update HTTP/1.1\u001b[0m\" 200 -\n",
      "172.19.0.2 - - [07/Jun/2019 11:44:26] \"\u001b[37mPOST /update HTTP/1.1\u001b[0m\" 200 -\n",
      "172.19.0.2 - - [07/Jun/2019 11:44:26] \"\u001b[37mPOST /update HTTP/1.1\u001b[0m\" 200 -\n",
      "172.19.0.2 - - [07/Jun/2019 11:44:26] \"\u001b[37mGET /parameters HTTP/1.1\u001b[0m\" 200 -\n",
      "172.19.0.2 - - [07/Jun/2019 11:44:26] \"\u001b[37mGET /parameters HTTP/1.1\u001b[0m\" 200 -\n",
      "172.19.0.2 - - [07/Jun/2019 11:44:26] \"\u001b[37mGET /parameters HTTP/1.1\u001b[0m\" 200 -\n"
     ]
    },
    {
     "name": "stderr",
     "output_type": "stream",
     "text": [
      "172.19.0.2 - - [07/Jun/2019 11:44:27] \"\u001b[37mPOST /update HTTP/1.1\u001b[0m\" 200 -\n",
      "172.19.0.2 - - [07/Jun/2019 11:44:27] \"\u001b[37mGET /parameters HTTP/1.1\u001b[0m\" 200 -\n",
      "172.19.0.2 - - [07/Jun/2019 11:44:28] \"\u001b[37mPOST /update HTTP/1.1\u001b[0m\" 200 -\n",
      "172.19.0.2 - - [07/Jun/2019 11:44:28] \"\u001b[37mGET /parameters HTTP/1.1\u001b[0m\" 200 -\n",
      "172.19.0.2 - - [07/Jun/2019 11:44:28] \"\u001b[37mPOST /update HTTP/1.1\u001b[0m\" 200 -\n",
      "172.19.0.2 - - [07/Jun/2019 11:44:28] \"\u001b[37mPOST /update HTTP/1.1\u001b[0m\" 200 -\n",
      "172.19.0.2 - - [07/Jun/2019 11:44:28] \"\u001b[37mGET /parameters HTTP/1.1\u001b[0m\" 200 -\n",
      "172.19.0.2 - - [07/Jun/2019 11:44:28] \"\u001b[37mGET /parameters HTTP/1.1\u001b[0m\" 200 -\n",
      "172.19.0.2 - - [07/Jun/2019 11:44:29] \"\u001b[37mPOST /update HTTP/1.1\u001b[0m\" 200 -\n",
      "172.19.0.2 - - [07/Jun/2019 11:44:29] \"\u001b[37mGET /parameters HTTP/1.1\u001b[0m\" 200 -\n",
      "172.19.0.2 - - [07/Jun/2019 11:44:30] \"\u001b[37mPOST /update HTTP/1.1\u001b[0m\" 200 -\n",
      "172.19.0.2 - - [07/Jun/2019 11:44:30] \"\u001b[37mGET /parameters HTTP/1.1\u001b[0m\" 200 -\n",
      "172.19.0.2 - - [07/Jun/2019 11:44:30] \"\u001b[37mPOST /update HTTP/1.1\u001b[0m\" 200 -\n",
      "172.19.0.2 - - [07/Jun/2019 11:44:30] \"\u001b[37mGET /parameters HTTP/1.1\u001b[0m\" 200 -\n",
      "172.19.0.2 - - [07/Jun/2019 11:44:30] \"\u001b[37mPOST /update HTTP/1.1\u001b[0m\" 200 -\n",
      "172.19.0.2 - - [07/Jun/2019 11:44:30] \"\u001b[37mGET /parameters HTTP/1.1\u001b[0m\" 200 -\n",
      "172.19.0.2 - - [07/Jun/2019 11:44:32] \"\u001b[37mPOST /update HTTP/1.1\u001b[0m\" 200 -\n",
      "172.19.0.2 - - [07/Jun/2019 11:44:32] \"\u001b[37mGET /parameters HTTP/1.1\u001b[0m\" 200 -\n",
      "172.19.0.2 - - [07/Jun/2019 11:44:32] \"\u001b[37mPOST /update HTTP/1.1\u001b[0m\" 200 -\n",
      "172.19.0.2 - - [07/Jun/2019 11:44:32] \"\u001b[37mGET /parameters HTTP/1.1\u001b[0m\" 200 -\n",
      "172.19.0.2 - - [07/Jun/2019 11:44:32] \"\u001b[37mPOST /update HTTP/1.1\u001b[0m\" 200 -\n",
      "172.19.0.2 - - [07/Jun/2019 11:44:32] \"\u001b[37mGET /parameters HTTP/1.1\u001b[0m\" 200 -\n",
      "172.19.0.2 - - [07/Jun/2019 11:44:33] \"\u001b[37mPOST /update HTTP/1.1\u001b[0m\" 200 -\n",
      "172.19.0.2 - - [07/Jun/2019 11:44:33] \"\u001b[37mGET /parameters HTTP/1.1\u001b[0m\" 200 -\n",
      "172.19.0.2 - - [07/Jun/2019 11:44:34] \"\u001b[37mPOST /update HTTP/1.1\u001b[0m\" 200 -\n",
      "172.19.0.2 - - [07/Jun/2019 11:44:34] \"\u001b[37mGET /parameters HTTP/1.1\u001b[0m\" 200 -\n",
      "172.19.0.2 - - [07/Jun/2019 11:44:34] \"\u001b[37mPOST /update HTTP/1.1\u001b[0m\" 200 -\n",
      "172.19.0.2 - - [07/Jun/2019 11:44:34] \"\u001b[37mPOST /update HTTP/1.1\u001b[0m\" 200 -\n",
      "172.19.0.2 - - [07/Jun/2019 11:44:34] \"\u001b[37mGET /parameters HTTP/1.1\u001b[0m\" 200 -\n",
      "172.19.0.2 - - [07/Jun/2019 11:44:34] \"\u001b[37mGET /parameters HTTP/1.1\u001b[0m\" 200 -\n",
      "172.19.0.2 - - [07/Jun/2019 11:44:35] \"\u001b[37mPOST /update HTTP/1.1\u001b[0m\" 200 -\n",
      "172.19.0.2 - - [07/Jun/2019 11:44:35] \"\u001b[37mGET /parameters HTTP/1.1\u001b[0m\" 200 -\n",
      "172.19.0.2 - - [07/Jun/2019 11:44:35] \"\u001b[37mPOST /update HTTP/1.1\u001b[0m\" 200 -\n",
      "172.19.0.2 - - [07/Jun/2019 11:44:35] \"\u001b[37mGET /parameters HTTP/1.1\u001b[0m\" 200 -\n",
      "172.19.0.2 - - [07/Jun/2019 11:44:36] \"\u001b[37mPOST /update HTTP/1.1\u001b[0m\" 200 -\n",
      "172.19.0.2 - - [07/Jun/2019 11:44:36] \"\u001b[37mGET /parameters HTTP/1.1\u001b[0m\" 200 -\n",
      "172.19.0.2 - - [07/Jun/2019 11:44:37] \"\u001b[37mPOST /update HTTP/1.1\u001b[0m\" 200 -\n",
      "172.19.0.2 - - [07/Jun/2019 11:44:37] \"\u001b[37mGET /parameters HTTP/1.1\u001b[0m\" 200 -\n",
      "172.19.0.2 - - [07/Jun/2019 11:44:38] \"\u001b[37mPOST /update HTTP/1.1\u001b[0m\" 200 -\n",
      "172.19.0.2 - - [07/Jun/2019 11:44:38] \"\u001b[37mPOST /update HTTP/1.1\u001b[0m\" 200 -\n",
      "172.19.0.2 - - [07/Jun/2019 11:44:38] \"\u001b[37mGET /parameters HTTP/1.1\u001b[0m\" 200 -\n",
      "172.19.0.2 - - [07/Jun/2019 11:44:38] \"\u001b[37mGET /parameters HTTP/1.1\u001b[0m\" 200 -\n",
      "172.19.0.2 - - [07/Jun/2019 11:44:38] \"\u001b[37mPOST /update HTTP/1.1\u001b[0m\" 200 -\n",
      "172.19.0.2 - - [07/Jun/2019 11:44:38] \"\u001b[37mGET /parameters HTTP/1.1\u001b[0m\" 200 -\n",
      "172.19.0.2 - - [07/Jun/2019 11:44:39] \"\u001b[37mPOST /update HTTP/1.1\u001b[0m\" 200 -\n",
      "172.19.0.2 - - [07/Jun/2019 11:44:39] \"\u001b[37mGET /parameters HTTP/1.1\u001b[0m\" 200 -\n",
      "172.19.0.2 - - [07/Jun/2019 11:44:40] \"\u001b[37mPOST /update HTTP/1.1\u001b[0m\" 200 -\n",
      "172.19.0.2 - - [07/Jun/2019 11:44:40] \"\u001b[37mGET /parameters HTTP/1.1\u001b[0m\" 200 -\n",
      "172.19.0.2 - - [07/Jun/2019 11:44:40] \"\u001b[37mPOST /update HTTP/1.1\u001b[0m\" 200 -\n",
      "172.19.0.2 - - [07/Jun/2019 11:44:40] \"\u001b[37mGET /parameters HTTP/1.1\u001b[0m\" 200 -\n",
      "172.19.0.2 - - [07/Jun/2019 11:44:40] \"\u001b[37mPOST /update HTTP/1.1\u001b[0m\" 200 -\n",
      "172.19.0.2 - - [07/Jun/2019 11:44:40] \"\u001b[37mGET /parameters HTTP/1.1\u001b[0m\" 200 -\n",
      "172.19.0.2 - - [07/Jun/2019 11:44:41] \"\u001b[37mPOST /update HTTP/1.1\u001b[0m\" 200 -\n",
      "172.19.0.2 - - [07/Jun/2019 11:44:41] \"\u001b[37mGET /parameters HTTP/1.1\u001b[0m\" 200 -\n",
      "172.19.0.2 - - [07/Jun/2019 11:44:43] \"\u001b[37mPOST /update HTTP/1.1\u001b[0m\" 200 -\n",
      "172.19.0.2 - - [07/Jun/2019 11:44:43] \"\u001b[37mPOST /update HTTP/1.1\u001b[0m\" 200 -\n",
      "172.19.0.2 - - [07/Jun/2019 11:44:43] \"\u001b[37mPOST /update HTTP/1.1\u001b[0m\" 200 -\n",
      "172.19.0.2 - - [07/Jun/2019 11:44:43] \"\u001b[37mPOST /update HTTP/1.1\u001b[0m\" 200 -\n",
      "172.19.0.2 - - [07/Jun/2019 11:44:43] \"\u001b[37mGET /parameters HTTP/1.1\u001b[0m\" 200 -\n",
      "172.19.0.2 - - [07/Jun/2019 11:44:43] \"\u001b[37mGET /parameters HTTP/1.1\u001b[0m\" 200 -\n",
      "172.19.0.2 - - [07/Jun/2019 11:44:43] \"\u001b[37mGET /parameters HTTP/1.1\u001b[0m\" 200 -\n",
      "172.19.0.2 - - [07/Jun/2019 11:44:43] \"\u001b[37mGET /parameters HTTP/1.1\u001b[0m\" 200 -\n",
      "172.19.0.2 - - [07/Jun/2019 11:44:44] \"\u001b[37mPOST /update HTTP/1.1\u001b[0m\" 200 -\n",
      "172.19.0.2 - - [07/Jun/2019 11:44:45] \"\u001b[37mGET /parameters HTTP/1.1\u001b[0m\" 200 -\n",
      "172.19.0.2 - - [07/Jun/2019 11:44:45] \"\u001b[37mPOST /update HTTP/1.1\u001b[0m\" 200 -\n",
      "172.19.0.2 - - [07/Jun/2019 11:44:45] \"\u001b[37mGET /parameters HTTP/1.1\u001b[0m\" 200 -\n",
      "172.19.0.2 - - [07/Jun/2019 11:44:45] \"\u001b[37mPOST /update HTTP/1.1\u001b[0m\" 200 -\n",
      "172.19.0.2 - - [07/Jun/2019 11:44:45] \"\u001b[37mPOST /update HTTP/1.1\u001b[0m\" 200 -\n",
      "172.19.0.2 - - [07/Jun/2019 11:44:45] \"\u001b[37mGET /parameters HTTP/1.1\u001b[0m\" 200 -\n",
      "172.19.0.2 - - [07/Jun/2019 11:44:45] \"\u001b[37mGET /parameters HTTP/1.1\u001b[0m\" 200 -\n",
      "172.19.0.2 - - [07/Jun/2019 11:44:47] \"\u001b[37mPOST /update HTTP/1.1\u001b[0m\" 200 -\n",
      "172.19.0.2 - - [07/Jun/2019 11:44:47] \"\u001b[37mGET /parameters HTTP/1.1\u001b[0m\" 200 -\n",
      "172.19.0.2 - - [07/Jun/2019 11:44:47] \"\u001b[37mPOST /update HTTP/1.1\u001b[0m\" 200 -\n",
      "172.19.0.2 - - [07/Jun/2019 11:44:47] \"\u001b[37mGET /parameters HTTP/1.1\u001b[0m\" 200 -\n",
      "172.19.0.2 - - [07/Jun/2019 11:44:47] \"\u001b[37mPOST /update HTTP/1.1\u001b[0m\" 200 -\n",
      "172.19.0.2 - - [07/Jun/2019 11:44:47] \"\u001b[37mPOST /update HTTP/1.1\u001b[0m\" 200 -\n",
      "172.19.0.2 - - [07/Jun/2019 11:44:47] \"\u001b[37mGET /parameters HTTP/1.1\u001b[0m\" 200 -\n",
      "172.19.0.2 - - [07/Jun/2019 11:44:47] \"\u001b[37mGET /parameters HTTP/1.1\u001b[0m\" 200 -\n",
      "172.19.0.2 - - [07/Jun/2019 11:44:49] \"\u001b[37mPOST /update HTTP/1.1\u001b[0m\" 200 -\n",
      "172.19.0.2 - - [07/Jun/2019 11:44:49] \"\u001b[37mGET /parameters HTTP/1.1\u001b[0m\" 200 -\n",
      "172.19.0.2 - - [07/Jun/2019 11:44:49] \"\u001b[37mPOST /update HTTP/1.1\u001b[0m\" 200 -\n",
      "172.19.0.2 - - [07/Jun/2019 11:44:49] \"\u001b[37mGET /parameters HTTP/1.1\u001b[0m\" 200 -\n",
      "172.19.0.2 - - [07/Jun/2019 11:44:50] \"\u001b[37mPOST /update HTTP/1.1\u001b[0m\" 200 -\n",
      "172.19.0.2 - - [07/Jun/2019 11:44:50] \"\u001b[37mPOST /update HTTP/1.1\u001b[0m\" 200 -\n",
      "172.19.0.2 - - [07/Jun/2019 11:44:50] \"\u001b[37mGET /parameters HTTP/1.1\u001b[0m\" 200 -\n",
      "172.19.0.2 - - [07/Jun/2019 11:44:50] \"\u001b[37mGET /parameters HTTP/1.1\u001b[0m\" 200 -\n",
      "172.19.0.2 - - [07/Jun/2019 11:44:51] \"\u001b[37mPOST /update HTTP/1.1\u001b[0m\" 200 -\n",
      "172.19.0.2 - - [07/Jun/2019 11:44:51] \"\u001b[37mGET /parameters HTTP/1.1\u001b[0m\" 200 -\n",
      "172.19.0.2 - - [07/Jun/2019 11:44:51] \"\u001b[37mPOST /update HTTP/1.1\u001b[0m\" 200 -\n",
      "172.19.0.2 - - [07/Jun/2019 11:44:51] \"\u001b[37mGET /parameters HTTP/1.1\u001b[0m\" 200 -\n",
      "172.19.0.2 - - [07/Jun/2019 11:44:52] \"\u001b[37mPOST /update HTTP/1.1\u001b[0m\" 200 -\n",
      "172.19.0.2 - - [07/Jun/2019 11:44:52] \"\u001b[37mGET /parameters HTTP/1.1\u001b[0m\" 200 -\n",
      "172.19.0.2 - - [07/Jun/2019 11:44:52] \"\u001b[37mPOST /update HTTP/1.1\u001b[0m\" 200 -\n",
      "172.19.0.2 - - [07/Jun/2019 11:44:52] \"\u001b[37mGET /parameters HTTP/1.1\u001b[0m\" 200 -\n",
      "172.19.0.2 - - [07/Jun/2019 11:44:53] \"\u001b[37mPOST /update HTTP/1.1\u001b[0m\" 200 -\n",
      "172.19.0.2 - - [07/Jun/2019 11:44:53] \"\u001b[37mGET /parameters HTTP/1.1\u001b[0m\" 200 -\n",
      "172.19.0.2 - - [07/Jun/2019 11:44:53] \"\u001b[37mPOST /update HTTP/1.1\u001b[0m\" 200 -\n",
      "172.19.0.2 - - [07/Jun/2019 11:44:53] \"\u001b[37mGET /parameters HTTP/1.1\u001b[0m\" 200 -\n",
      "172.19.0.2 - - [07/Jun/2019 11:44:54] \"\u001b[37mPOST /update HTTP/1.1\u001b[0m\" 200 -\n",
      "172.19.0.2 - - [07/Jun/2019 11:44:54] \"\u001b[37mGET /parameters HTTP/1.1\u001b[0m\" 200 -\n",
      "172.19.0.2 - - [07/Jun/2019 11:44:55] \"\u001b[37mPOST /update HTTP/1.1\u001b[0m\" 200 -\n",
      "172.19.0.2 - - [07/Jun/2019 11:44:55] \"\u001b[37mGET /parameters HTTP/1.1\u001b[0m\" 200 -\n",
      "172.19.0.2 - - [07/Jun/2019 11:44:55] \"\u001b[37mPOST /update HTTP/1.1\u001b[0m\" 200 -\n",
      "172.19.0.2 - - [07/Jun/2019 11:44:55] \"\u001b[37mGET /parameters HTTP/1.1\u001b[0m\" 200 -\n",
      "172.19.0.2 - - [07/Jun/2019 11:44:56] \"\u001b[37mPOST /update HTTP/1.1\u001b[0m\" 200 -\n"
     ]
    },
    {
     "name": "stderr",
     "output_type": "stream",
     "text": [
      "172.19.0.2 - - [07/Jun/2019 11:44:56] \"\u001b[37mGET /parameters HTTP/1.1\u001b[0m\" 200 -\n",
      "172.19.0.2 - - [07/Jun/2019 11:44:56] \"\u001b[37mPOST /update HTTP/1.1\u001b[0m\" 200 -\n",
      "172.19.0.2 - - [07/Jun/2019 11:44:56] \"\u001b[37mGET /parameters HTTP/1.1\u001b[0m\" 200 -\n",
      "172.19.0.2 - - [07/Jun/2019 11:44:57] \"\u001b[37mPOST /update HTTP/1.1\u001b[0m\" 200 -\n",
      "172.19.0.2 - - [07/Jun/2019 11:44:57] \"\u001b[37mGET /parameters HTTP/1.1\u001b[0m\" 200 -\n",
      "172.19.0.2 - - [07/Jun/2019 11:44:57] \"\u001b[37mPOST /update HTTP/1.1\u001b[0m\" 200 -\n",
      "172.19.0.2 - - [07/Jun/2019 11:44:57] \"\u001b[37mGET /parameters HTTP/1.1\u001b[0m\" 200 -\n",
      "172.19.0.2 - - [07/Jun/2019 11:44:58] \"\u001b[37mPOST /update HTTP/1.1\u001b[0m\" 200 -\n",
      "172.19.0.2 - - [07/Jun/2019 11:44:58] \"\u001b[37mGET /parameters HTTP/1.1\u001b[0m\" 200 -\n",
      "172.19.0.2 - - [07/Jun/2019 11:44:58] \"\u001b[37mPOST /update HTTP/1.1\u001b[0m\" 200 -\n",
      "172.19.0.2 - - [07/Jun/2019 11:44:58] \"\u001b[37mGET /parameters HTTP/1.1\u001b[0m\" 200 -\n",
      "172.19.0.2 - - [07/Jun/2019 11:44:59] \"\u001b[37mPOST /update HTTP/1.1\u001b[0m\" 200 -\n",
      "172.19.0.2 - - [07/Jun/2019 11:44:59] \"\u001b[37mGET /parameters HTTP/1.1\u001b[0m\" 200 -\n",
      "172.19.0.2 - - [07/Jun/2019 11:45:00] \"\u001b[37mPOST /update HTTP/1.1\u001b[0m\" 200 -\n",
      "172.19.0.2 - - [07/Jun/2019 11:45:00] \"\u001b[37mGET /parameters HTTP/1.1\u001b[0m\" 200 -\n",
      "172.19.0.2 - - [07/Jun/2019 11:45:00] \"\u001b[37mPOST /update HTTP/1.1\u001b[0m\" 200 -\n",
      "172.19.0.2 - - [07/Jun/2019 11:45:00] \"\u001b[37mGET /parameters HTTP/1.1\u001b[0m\" 200 -\n",
      "172.19.0.2 - - [07/Jun/2019 11:45:00] \"\u001b[37mPOST /update HTTP/1.1\u001b[0m\" 200 -\n",
      "172.19.0.2 - - [07/Jun/2019 11:45:01] \"\u001b[37mGET /parameters HTTP/1.1\u001b[0m\" 200 -\n",
      "172.19.0.2 - - [07/Jun/2019 11:45:01] \"\u001b[37mPOST /update HTTP/1.1\u001b[0m\" 200 -\n",
      "172.19.0.2 - - [07/Jun/2019 11:45:02] \"\u001b[37mGET /parameters HTTP/1.1\u001b[0m\" 200 -\n",
      "172.19.0.2 - - [07/Jun/2019 11:45:02] \"\u001b[37mPOST /update HTTP/1.1\u001b[0m\" 200 -\n",
      "172.19.0.2 - - [07/Jun/2019 11:45:02] \"\u001b[37mGET /parameters HTTP/1.1\u001b[0m\" 200 -\n",
      "172.19.0.2 - - [07/Jun/2019 11:45:03] \"\u001b[37mPOST /update HTTP/1.1\u001b[0m\" 200 -\n",
      "172.19.0.2 - - [07/Jun/2019 11:45:03] \"\u001b[37mPOST /update HTTP/1.1\u001b[0m\" 200 -\n",
      "172.19.0.2 - - [07/Jun/2019 11:45:03] \"\u001b[37mGET /parameters HTTP/1.1\u001b[0m\" 200 -\n",
      "172.19.0.2 - - [07/Jun/2019 11:45:03] \"\u001b[37mGET /parameters HTTP/1.1\u001b[0m\" 200 -\n",
      "172.19.0.2 - - [07/Jun/2019 11:45:03] \"\u001b[37mPOST /update HTTP/1.1\u001b[0m\" 200 -\n",
      "172.19.0.2 - - [07/Jun/2019 11:45:03] \"\u001b[37mGET /parameters HTTP/1.1\u001b[0m\" 200 -\n",
      "172.19.0.2 - - [07/Jun/2019 11:45:04] \"\u001b[37mPOST /update HTTP/1.1\u001b[0m\" 200 -\n",
      "172.19.0.2 - - [07/Jun/2019 11:45:04] \"\u001b[37mGET /parameters HTTP/1.1\u001b[0m\" 200 -\n",
      "172.19.0.2 - - [07/Jun/2019 11:45:05] \"\u001b[37mPOST /update HTTP/1.1\u001b[0m\" 200 -\n",
      "172.19.0.2 - - [07/Jun/2019 11:45:05] \"\u001b[37mGET /parameters HTTP/1.1\u001b[0m\" 200 -\n",
      "172.19.0.2 - - [07/Jun/2019 11:45:05] \"\u001b[37mPOST /update HTTP/1.1\u001b[0m\" 200 -\n",
      "172.19.0.2 - - [07/Jun/2019 11:45:05] \"\u001b[37mGET /parameters HTTP/1.1\u001b[0m\" 200 -\n",
      "172.19.0.2 - - [07/Jun/2019 11:45:06] \"\u001b[37mPOST /update HTTP/1.1\u001b[0m\" 200 -\n",
      "172.19.0.2 - - [07/Jun/2019 11:45:06] \"\u001b[37mGET /parameters HTTP/1.1\u001b[0m\" 200 -\n",
      "172.19.0.2 - - [07/Jun/2019 11:45:06] \"\u001b[37mPOST /update HTTP/1.1\u001b[0m\" 200 -\n",
      "172.19.0.2 - - [07/Jun/2019 11:45:06] \"\u001b[37mGET /parameters HTTP/1.1\u001b[0m\" 200 -\n",
      "172.19.0.2 - - [07/Jun/2019 11:45:07] \"\u001b[37mPOST /update HTTP/1.1\u001b[0m\" 200 -\n",
      "172.19.0.2 - - [07/Jun/2019 11:45:07] \"\u001b[37mGET /parameters HTTP/1.1\u001b[0m\" 200 -\n",
      "172.19.0.2 - - [07/Jun/2019 11:45:08] \"\u001b[37mPOST /update HTTP/1.1\u001b[0m\" 200 -\n",
      "172.19.0.2 - - [07/Jun/2019 11:45:08] \"\u001b[37mGET /parameters HTTP/1.1\u001b[0m\" 200 -\n",
      "172.19.0.2 - - [07/Jun/2019 11:45:08] \"\u001b[37mPOST /update HTTP/1.1\u001b[0m\" 200 -\n",
      "172.19.0.2 - - [07/Jun/2019 11:45:08] \"\u001b[37mGET /parameters HTTP/1.1\u001b[0m\" 200 -\n",
      "172.19.0.2 - - [07/Jun/2019 11:45:08] \"\u001b[37mPOST /update HTTP/1.1\u001b[0m\" 200 -\n",
      "172.19.0.2 - - [07/Jun/2019 11:45:08] \"\u001b[37mGET /parameters HTTP/1.1\u001b[0m\" 200 -\n",
      "172.19.0.2 - - [07/Jun/2019 11:45:09] \"\u001b[37mPOST /update HTTP/1.1\u001b[0m\" 200 -\n",
      "172.19.0.2 - - [07/Jun/2019 11:45:09] \"\u001b[37mGET /parameters HTTP/1.1\u001b[0m\" 200 -\n",
      "172.19.0.2 - - [07/Jun/2019 11:45:10] \"\u001b[37mPOST /update HTTP/1.1\u001b[0m\" 200 -\n",
      "172.19.0.2 - - [07/Jun/2019 11:45:10] \"\u001b[37mGET /parameters HTTP/1.1\u001b[0m\" 200 -\n",
      "172.19.0.2 - - [07/Jun/2019 11:45:10] \"\u001b[37mPOST /update HTTP/1.1\u001b[0m\" 200 -\n",
      "172.19.0.2 - - [07/Jun/2019 11:45:10] \"\u001b[37mGET /parameters HTTP/1.1\u001b[0m\" 200 -\n",
      "172.19.0.2 - - [07/Jun/2019 11:45:11] \"\u001b[37mPOST /update HTTP/1.1\u001b[0m\" 200 -\n",
      "172.19.0.2 - - [07/Jun/2019 11:45:11] \"\u001b[37mGET /parameters HTTP/1.1\u001b[0m\" 200 -\n",
      "172.19.0.2 - - [07/Jun/2019 11:45:11] \"\u001b[37mPOST /update HTTP/1.1\u001b[0m\" 200 -\n",
      "172.19.0.2 - - [07/Jun/2019 11:45:11] \"\u001b[37mGET /parameters HTTP/1.1\u001b[0m\" 200 -\n",
      "172.19.0.2 - - [07/Jun/2019 11:45:12] \"\u001b[37mPOST /update HTTP/1.1\u001b[0m\" 200 -\n",
      "172.19.0.2 - - [07/Jun/2019 11:45:12] \"\u001b[37mGET /parameters HTTP/1.1\u001b[0m\" 200 -\n",
      "172.19.0.2 - - [07/Jun/2019 11:45:13] \"\u001b[37mPOST /update HTTP/1.1\u001b[0m\" 200 -\n",
      "172.19.0.2 - - [07/Jun/2019 11:45:13] \"\u001b[37mGET /parameters HTTP/1.1\u001b[0m\" 200 -\n",
      "172.19.0.2 - - [07/Jun/2019 11:45:13] \"\u001b[37mPOST /update HTTP/1.1\u001b[0m\" 200 -\n",
      "172.19.0.2 - - [07/Jun/2019 11:45:13] \"\u001b[37mPOST /update HTTP/1.1\u001b[0m\" 200 -\n",
      "172.19.0.2 - - [07/Jun/2019 11:45:13] \"\u001b[37mGET /parameters HTTP/1.1\u001b[0m\" 200 -\n",
      "172.19.0.2 - - [07/Jun/2019 11:45:13] \"\u001b[37mGET /parameters HTTP/1.1\u001b[0m\" 200 -\n",
      "172.19.0.2 - - [07/Jun/2019 11:45:14] \"\u001b[37mPOST /update HTTP/1.1\u001b[0m\" 200 -\n",
      "172.19.0.2 - - [07/Jun/2019 11:45:14] \"\u001b[37mGET /parameters HTTP/1.1\u001b[0m\" 200 -\n",
      "172.19.0.2 - - [07/Jun/2019 11:45:15] \"\u001b[37mPOST /update HTTP/1.1\u001b[0m\" 200 -\n",
      "172.19.0.2 - - [07/Jun/2019 11:45:15] \"\u001b[37mGET /parameters HTTP/1.1\u001b[0m\" 200 -\n",
      "172.19.0.2 - - [07/Jun/2019 11:45:15] \"\u001b[37mPOST /update HTTP/1.1\u001b[0m\" 200 -\n",
      "172.19.0.2 - - [07/Jun/2019 11:45:15] \"\u001b[37mPOST /update HTTP/1.1\u001b[0m\" 200 -\n",
      "172.19.0.2 - - [07/Jun/2019 11:45:15] \"\u001b[37mGET /parameters HTTP/1.1\u001b[0m\" 200 -\n",
      "172.19.0.2 - - [07/Jun/2019 11:45:15] \"\u001b[37mGET /parameters HTTP/1.1\u001b[0m\" 200 -\n",
      "172.19.0.2 - - [07/Jun/2019 11:45:16] \"\u001b[37mPOST /update HTTP/1.1\u001b[0m\" 200 -\n",
      "172.19.0.2 - - [07/Jun/2019 11:45:16] \"\u001b[37mGET /parameters HTTP/1.1\u001b[0m\" 200 -\n",
      "172.19.0.2 - - [07/Jun/2019 11:45:17] \"\u001b[37mPOST /update HTTP/1.1\u001b[0m\" 200 -\n",
      "172.19.0.2 - - [07/Jun/2019 11:45:17] \"\u001b[37mGET /parameters HTTP/1.1\u001b[0m\" 200 -\n",
      "172.19.0.2 - - [07/Jun/2019 11:45:18] \"\u001b[37mPOST /update HTTP/1.1\u001b[0m\" 200 -\n",
      "172.19.0.2 - - [07/Jun/2019 11:45:18] \"\u001b[37mPOST /update HTTP/1.1\u001b[0m\" 200 -\n",
      "172.19.0.2 - - [07/Jun/2019 11:45:18] \"\u001b[37mGET /parameters HTTP/1.1\u001b[0m\" 200 -\n",
      "172.19.0.2 - - [07/Jun/2019 11:45:18] \"\u001b[37mGET /parameters HTTP/1.1\u001b[0m\" 200 -\n",
      "172.19.0.2 - - [07/Jun/2019 11:45:19] \"\u001b[37mPOST /update HTTP/1.1\u001b[0m\" 200 -\n",
      "172.19.0.2 - - [07/Jun/2019 11:45:19] \"\u001b[37mGET /parameters HTTP/1.1\u001b[0m\" 200 -\n",
      "172.19.0.2 - - [07/Jun/2019 11:45:19] \"\u001b[37mPOST /update HTTP/1.1\u001b[0m\" 200 -\n",
      "172.19.0.2 - - [07/Jun/2019 11:45:19] \"\u001b[37mGET /parameters HTTP/1.1\u001b[0m\" 200 -\n",
      "172.19.0.2 - - [07/Jun/2019 11:45:19] \"\u001b[37mPOST /update HTTP/1.1\u001b[0m\" 200 -\n",
      "172.19.0.2 - - [07/Jun/2019 11:45:19] \"\u001b[37mGET /parameters HTTP/1.1\u001b[0m\" 200 -\n",
      "172.19.0.2 - - [07/Jun/2019 11:45:20] \"\u001b[37mPOST /update HTTP/1.1\u001b[0m\" 200 -\n",
      "172.19.0.2 - - [07/Jun/2019 11:45:20] \"\u001b[37mGET /parameters HTTP/1.1\u001b[0m\" 200 -\n",
      "172.19.0.2 - - [07/Jun/2019 11:45:21] \"\u001b[37mPOST /update HTTP/1.1\u001b[0m\" 200 -\n",
      "172.19.0.2 - - [07/Jun/2019 11:45:21] \"\u001b[37mPOST /update HTTP/1.1\u001b[0m\" 200 -\n",
      "172.19.0.2 - - [07/Jun/2019 11:45:21] \"\u001b[37mGET /parameters HTTP/1.1\u001b[0m\" 200 -\n",
      "172.19.0.2 - - [07/Jun/2019 11:45:21] \"\u001b[37mGET /parameters HTTP/1.1\u001b[0m\" 200 -\n",
      "172.19.0.2 - - [07/Jun/2019 11:45:22] \"\u001b[37mPOST /update HTTP/1.1\u001b[0m\" 200 -\n",
      "172.19.0.2 - - [07/Jun/2019 11:45:22] \"\u001b[37mGET /parameters HTTP/1.1\u001b[0m\" 200 -\n",
      "172.19.0.2 - - [07/Jun/2019 11:45:22] \"\u001b[37mPOST /update HTTP/1.1\u001b[0m\" 200 -\n",
      "172.19.0.2 - - [07/Jun/2019 11:45:22] \"\u001b[37mGET /parameters HTTP/1.1\u001b[0m\" 200 -\n",
      "172.19.0.2 - - [07/Jun/2019 11:45:23] \"\u001b[37mPOST /update HTTP/1.1\u001b[0m\" 200 -\n",
      "172.19.0.2 - - [07/Jun/2019 11:45:23] \"\u001b[37mGET /parameters HTTP/1.1\u001b[0m\" 200 -\n",
      "172.19.0.2 - - [07/Jun/2019 11:45:24] \"\u001b[37mPOST /update HTTP/1.1\u001b[0m\" 200 -\n",
      "172.19.0.2 - - [07/Jun/2019 11:45:24] \"\u001b[37mGET /parameters HTTP/1.1\u001b[0m\" 200 -\n",
      "172.19.0.2 - - [07/Jun/2019 11:45:24] \"\u001b[37mPOST /update HTTP/1.1\u001b[0m\" 200 -\n",
      "172.19.0.2 - - [07/Jun/2019 11:45:24] \"\u001b[37mGET /parameters HTTP/1.1\u001b[0m\" 200 -\n",
      "172.19.0.2 - - [07/Jun/2019 11:45:25] \"\u001b[37mPOST /update HTTP/1.1\u001b[0m\" 200 -\n",
      "172.19.0.2 - - [07/Jun/2019 11:45:25] \"\u001b[37mGET /parameters HTTP/1.1\u001b[0m\" 200 -\n"
     ]
    },
    {
     "name": "stderr",
     "output_type": "stream",
     "text": [
      "172.19.0.2 - - [07/Jun/2019 11:45:25] \"\u001b[37mPOST /update HTTP/1.1\u001b[0m\" 200 -\n",
      "172.19.0.2 - - [07/Jun/2019 11:45:25] \"\u001b[37mGET /parameters HTTP/1.1\u001b[0m\" 200 -\n",
      "172.19.0.2 - - [07/Jun/2019 11:45:26] \"\u001b[37mPOST /update HTTP/1.1\u001b[0m\" 200 -\n",
      "172.19.0.2 - - [07/Jun/2019 11:45:26] \"\u001b[37mPOST /update HTTP/1.1\u001b[0m\" 200 -\n",
      "172.19.0.2 - - [07/Jun/2019 11:45:26] \"\u001b[37mGET /parameters HTTP/1.1\u001b[0m\" 200 -\n",
      "172.19.0.2 - - [07/Jun/2019 11:45:26] \"\u001b[37mGET /parameters HTTP/1.1\u001b[0m\" 200 -\n",
      "172.19.0.2 - - [07/Jun/2019 11:45:27] \"\u001b[37mPOST /update HTTP/1.1\u001b[0m\" 200 -\n",
      "172.19.0.2 - - [07/Jun/2019 11:45:27] \"\u001b[37mGET /parameters HTTP/1.1\u001b[0m\" 200 -\n",
      "172.19.0.2 - - [07/Jun/2019 11:45:28] \"\u001b[37mPOST /update HTTP/1.1\u001b[0m\" 200 -\n",
      "172.19.0.2 - - [07/Jun/2019 11:45:28] \"\u001b[37mGET /parameters HTTP/1.1\u001b[0m\" 200 -\n",
      "172.19.0.2 - - [07/Jun/2019 11:45:28] \"\u001b[37mPOST /update HTTP/1.1\u001b[0m\" 200 -\n",
      "172.19.0.2 - - [07/Jun/2019 11:45:28] \"\u001b[37mGET /parameters HTTP/1.1\u001b[0m\" 200 -\n",
      "172.19.0.2 - - [07/Jun/2019 11:45:28] \"\u001b[37mPOST /update HTTP/1.1\u001b[0m\" 200 -\n",
      "172.19.0.2 - - [07/Jun/2019 11:45:28] \"\u001b[37mGET /parameters HTTP/1.1\u001b[0m\" 200 -\n",
      "172.19.0.2 - - [07/Jun/2019 11:45:29] \"\u001b[37mPOST /update HTTP/1.1\u001b[0m\" 200 -\n",
      "172.19.0.2 - - [07/Jun/2019 11:45:29] \"\u001b[37mGET /parameters HTTP/1.1\u001b[0m\" 200 -\n",
      "172.19.0.2 - - [07/Jun/2019 11:45:29] \"\u001b[37mPOST /update HTTP/1.1\u001b[0m\" 200 -\n",
      "172.19.0.2 - - [07/Jun/2019 11:45:30] \"\u001b[37mGET /parameters HTTP/1.1\u001b[0m\" 200 -\n",
      "172.19.0.2 - - [07/Jun/2019 11:45:30] \"\u001b[37mPOST /update HTTP/1.1\u001b[0m\" 200 -\n",
      "172.19.0.2 - - [07/Jun/2019 11:45:30] \"\u001b[37mGET /parameters HTTP/1.1\u001b[0m\" 200 -\n",
      "172.19.0.2 - - [07/Jun/2019 11:45:30] \"\u001b[37mPOST /update HTTP/1.1\u001b[0m\" 200 -\n",
      "172.19.0.2 - - [07/Jun/2019 11:45:30] \"\u001b[37mGET /parameters HTTP/1.1\u001b[0m\" 200 -\n",
      "172.19.0.2 - - [07/Jun/2019 11:45:31] \"\u001b[37mPOST /update HTTP/1.1\u001b[0m\" 200 -\n",
      "172.19.0.2 - - [07/Jun/2019 11:45:31] \"\u001b[37mGET /parameters HTTP/1.1\u001b[0m\" 200 -\n",
      "172.19.0.2 - - [07/Jun/2019 11:45:32] \"\u001b[37mPOST /update HTTP/1.1\u001b[0m\" 200 -\n",
      "172.19.0.2 - - [07/Jun/2019 11:45:32] \"\u001b[37mGET /parameters HTTP/1.1\u001b[0m\" 200 -\n",
      "172.19.0.2 - - [07/Jun/2019 11:45:33] \"\u001b[37mPOST /update HTTP/1.1\u001b[0m\" 200 -\n",
      "172.19.0.2 - - [07/Jun/2019 11:45:33] \"\u001b[37mPOST /update HTTP/1.1\u001b[0m\" 200 -\n",
      "172.19.0.2 - - [07/Jun/2019 11:45:33] \"\u001b[37mGET /parameters HTTP/1.1\u001b[0m\" 200 -\n",
      "172.19.0.2 - - [07/Jun/2019 11:45:33] \"\u001b[37mGET /parameters HTTP/1.1\u001b[0m\" 200 -\n",
      "172.19.0.2 - - [07/Jun/2019 11:45:33] \"\u001b[37mPOST /update HTTP/1.1\u001b[0m\" 200 -\n",
      "172.19.0.2 - - [07/Jun/2019 11:45:33] \"\u001b[37mGET /parameters HTTP/1.1\u001b[0m\" 200 -\n",
      "172.19.0.2 - - [07/Jun/2019 11:45:34] \"\u001b[37mPOST /update HTTP/1.1\u001b[0m\" 200 -\n",
      "172.19.0.2 - - [07/Jun/2019 11:45:34] \"\u001b[37mGET /parameters HTTP/1.1\u001b[0m\" 200 -\n",
      "172.19.0.2 - - [07/Jun/2019 11:45:35] \"\u001b[37mPOST /update HTTP/1.1\u001b[0m\" 200 -\n",
      "172.19.0.2 - - [07/Jun/2019 11:45:35] \"\u001b[37mPOST /update HTTP/1.1\u001b[0m\" 200 -\n",
      "172.19.0.2 - - [07/Jun/2019 11:45:35] \"\u001b[37mGET /parameters HTTP/1.1\u001b[0m\" 200 -\n",
      "172.19.0.2 - - [07/Jun/2019 11:45:35] \"\u001b[37mGET /parameters HTTP/1.1\u001b[0m\" 200 -\n",
      "172.19.0.2 - - [07/Jun/2019 11:45:35] \"\u001b[37mPOST /update HTTP/1.1\u001b[0m\" 200 -\n",
      "172.19.0.2 - - [07/Jun/2019 11:45:35] \"\u001b[37mGET /parameters HTTP/1.1\u001b[0m\" 200 -\n",
      "172.19.0.2 - - [07/Jun/2019 11:45:36] \"\u001b[37mPOST /update HTTP/1.1\u001b[0m\" 200 -\n",
      "172.19.0.2 - - [07/Jun/2019 11:45:36] \"\u001b[37mGET /parameters HTTP/1.1\u001b[0m\" 200 -\n",
      "172.19.0.2 - - [07/Jun/2019 11:45:37] \"\u001b[37mPOST /update HTTP/1.1\u001b[0m\" 200 -\n",
      "172.19.0.2 - - [07/Jun/2019 11:45:37] \"\u001b[37mGET /parameters HTTP/1.1\u001b[0m\" 200 -\n",
      "172.19.0.2 - - [07/Jun/2019 11:45:37] \"\u001b[37mPOST /update HTTP/1.1\u001b[0m\" 200 -\n",
      "172.19.0.2 - - [07/Jun/2019 11:45:37] \"\u001b[37mGET /parameters HTTP/1.1\u001b[0m\" 200 -\n",
      "172.19.0.2 - - [07/Jun/2019 11:45:38] \"\u001b[37mPOST /update HTTP/1.1\u001b[0m\" 200 -\n",
      "172.19.0.2 - - [07/Jun/2019 11:45:38] \"\u001b[37mGET /parameters HTTP/1.1\u001b[0m\" 200 -\n",
      "172.19.0.2 - - [07/Jun/2019 11:45:38] \"\u001b[37mPOST /update HTTP/1.1\u001b[0m\" 200 -\n",
      "172.19.0.2 - - [07/Jun/2019 11:45:38] \"\u001b[37mGET /parameters HTTP/1.1\u001b[0m\" 200 -\n",
      "172.19.0.2 - - [07/Jun/2019 11:45:39] \"\u001b[37mPOST /update HTTP/1.1\u001b[0m\" 200 -\n",
      "172.19.0.2 - - [07/Jun/2019 11:45:39] \"\u001b[37mPOST /update HTTP/1.1\u001b[0m\" 200 -\n",
      "172.19.0.2 - - [07/Jun/2019 11:45:39] \"\u001b[37mGET /parameters HTTP/1.1\u001b[0m\" 200 -\n",
      "172.19.0.2 - - [07/Jun/2019 11:45:39] \"\u001b[37mGET /parameters HTTP/1.1\u001b[0m\" 200 -\n",
      "172.19.0.2 - - [07/Jun/2019 11:45:40] \"\u001b[37mPOST /update HTTP/1.1\u001b[0m\" 200 -\n",
      "172.19.0.2 - - [07/Jun/2019 11:45:40] \"\u001b[37mGET /parameters HTTP/1.1\u001b[0m\" 200 -\n",
      "172.19.0.2 - - [07/Jun/2019 11:45:40] \"\u001b[37mPOST /update HTTP/1.1\u001b[0m\" 200 -\n",
      "172.19.0.2 - - [07/Jun/2019 11:45:41] \"\u001b[37mGET /parameters HTTP/1.1\u001b[0m\" 200 -\n",
      "172.19.0.2 - - [07/Jun/2019 11:45:41] \"\u001b[37mPOST /update HTTP/1.1\u001b[0m\" 200 -\n",
      "172.19.0.2 - - [07/Jun/2019 11:45:42] \"\u001b[37mPOST /update HTTP/1.1\u001b[0m\" 200 -\n",
      "172.19.0.2 - - [07/Jun/2019 11:45:42] \"\u001b[37mGET /parameters HTTP/1.1\u001b[0m\" 200 -\n",
      "172.19.0.2 - - [07/Jun/2019 11:45:42] \"\u001b[37mGET /parameters HTTP/1.1\u001b[0m\" 200 -\n",
      "172.19.0.2 - - [07/Jun/2019 11:45:42] \"\u001b[37mPOST /update HTTP/1.1\u001b[0m\" 200 -\n",
      "172.19.0.2 - - [07/Jun/2019 11:45:42] \"\u001b[37mGET /parameters HTTP/1.1\u001b[0m\" 200 -\n",
      "172.19.0.2 - - [07/Jun/2019 11:45:43] \"\u001b[37mPOST /update HTTP/1.1\u001b[0m\" 200 -\n",
      "172.19.0.2 - - [07/Jun/2019 11:45:43] \"\u001b[37mGET /parameters HTTP/1.1\u001b[0m\" 200 -\n",
      "172.19.0.2 - - [07/Jun/2019 11:45:44] \"\u001b[37mPOST /update HTTP/1.1\u001b[0m\" 200 -\n",
      "172.19.0.2 - - [07/Jun/2019 11:45:44] \"\u001b[37mGET /parameters HTTP/1.1\u001b[0m\" 200 -\n",
      "172.19.0.2 - - [07/Jun/2019 11:45:44] \"\u001b[37mPOST /update HTTP/1.1\u001b[0m\" 200 -\n",
      "172.19.0.2 - - [07/Jun/2019 11:45:44] \"\u001b[37mGET /parameters HTTP/1.1\u001b[0m\" 200 -\n",
      "172.19.0.2 - - [07/Jun/2019 11:45:45] \"\u001b[37mPOST /update HTTP/1.1\u001b[0m\" 200 -\n",
      "172.19.0.2 - - [07/Jun/2019 11:45:45] \"\u001b[37mPOST /update HTTP/1.1\u001b[0m\" 200 -\n",
      "172.19.0.2 - - [07/Jun/2019 11:45:45] \"\u001b[37mGET /parameters HTTP/1.1\u001b[0m\" 200 -\n",
      "172.19.0.2 - - [07/Jun/2019 11:45:45] \"\u001b[37mGET /parameters HTTP/1.1\u001b[0m\" 200 -\n",
      "172.19.0.2 - - [07/Jun/2019 11:45:46] \"\u001b[37mPOST /update HTTP/1.1\u001b[0m\" 200 -\n",
      "172.19.0.2 - - [07/Jun/2019 11:45:46] \"\u001b[37mGET /parameters HTTP/1.1\u001b[0m\" 200 -\n",
      "172.19.0.2 - - [07/Jun/2019 11:45:46] \"\u001b[37mPOST /update HTTP/1.1\u001b[0m\" 200 -\n",
      "172.19.0.2 - - [07/Jun/2019 11:45:46] \"\u001b[37mGET /parameters HTTP/1.1\u001b[0m\" 200 -\n",
      "172.19.0.2 - - [07/Jun/2019 11:45:47] \"\u001b[37mPOST /update HTTP/1.1\u001b[0m\" 200 -\n",
      "172.19.0.2 - - [07/Jun/2019 11:45:47] \"\u001b[37mGET /parameters HTTP/1.1\u001b[0m\" 200 -\n",
      "172.19.0.2 - - [07/Jun/2019 11:45:47] \"\u001b[37mPOST /update HTTP/1.1\u001b[0m\" 200 -\n",
      "172.19.0.2 - - [07/Jun/2019 11:45:48] \"\u001b[37mPOST /update HTTP/1.1\u001b[0m\" 200 -\n",
      "172.19.0.2 - - [07/Jun/2019 11:45:48] \"\u001b[37mGET /parameters HTTP/1.1\u001b[0m\" 200 -\n",
      "172.19.0.2 - - [07/Jun/2019 11:45:48] \"\u001b[37mGET /parameters HTTP/1.1\u001b[0m\" 200 -\n",
      "172.19.0.2 - - [07/Jun/2019 11:45:49] \"\u001b[37mPOST /update HTTP/1.1\u001b[0m\" 200 -\n",
      "172.19.0.2 - - [07/Jun/2019 11:45:49] \"\u001b[37mGET /parameters HTTP/1.1\u001b[0m\" 200 -\n",
      "172.19.0.2 - - [07/Jun/2019 11:45:49] \"\u001b[37mPOST /update HTTP/1.1\u001b[0m\" 200 -\n",
      "172.19.0.2 - - [07/Jun/2019 11:45:49] \"\u001b[37mGET /parameters HTTP/1.1\u001b[0m\" 200 -\n",
      "172.19.0.2 - - [07/Jun/2019 11:45:50] \"\u001b[37mPOST /update HTTP/1.1\u001b[0m\" 200 -\n",
      "172.19.0.2 - - [07/Jun/2019 11:45:50] \"\u001b[37mGET /parameters HTTP/1.1\u001b[0m\" 200 -\n",
      "172.19.0.2 - - [07/Jun/2019 11:45:50] \"\u001b[37mPOST /update HTTP/1.1\u001b[0m\" 200 -\n",
      "172.19.0.2 - - [07/Jun/2019 11:45:50] \"\u001b[37mGET /parameters HTTP/1.1\u001b[0m\" 200 -\n",
      "172.19.0.2 - - [07/Jun/2019 11:45:51] \"\u001b[37mPOST /update HTTP/1.1\u001b[0m\" 200 -\n",
      "172.19.0.2 - - [07/Jun/2019 11:45:51] \"\u001b[37mGET /parameters HTTP/1.1\u001b[0m\" 200 -\n",
      "172.19.0.2 - - [07/Jun/2019 11:45:51] \"\u001b[37mPOST /update HTTP/1.1\u001b[0m\" 200 -\n",
      "172.19.0.2 - - [07/Jun/2019 11:45:51] \"\u001b[37mGET /parameters HTTP/1.1\u001b[0m\" 200 -\n",
      "172.19.0.2 - - [07/Jun/2019 11:45:52] \"\u001b[37mPOST /update HTTP/1.1\u001b[0m\" 200 -\n",
      "172.19.0.2 - - [07/Jun/2019 11:45:52] \"\u001b[37mGET /parameters HTTP/1.1\u001b[0m\" 200 -\n",
      "172.19.0.2 - - [07/Jun/2019 11:45:52] \"\u001b[37mPOST /update HTTP/1.1\u001b[0m\" 200 -\n",
      "172.19.0.2 - - [07/Jun/2019 11:45:52] \"\u001b[37mGET /parameters HTTP/1.1\u001b[0m\" 200 -\n",
      "172.19.0.2 - - [07/Jun/2019 11:45:53] \"\u001b[37mPOST /update HTTP/1.1\u001b[0m\" 200 -\n",
      "172.19.0.2 - - [07/Jun/2019 11:45:53] \"\u001b[37mGET /parameters HTTP/1.1\u001b[0m\" 200 -\n",
      "172.19.0.2 - - [07/Jun/2019 11:45:53] \"\u001b[37mPOST /update HTTP/1.1\u001b[0m\" 200 -\n",
      "172.19.0.2 - - [07/Jun/2019 11:45:53] \"\u001b[37mGET /parameters HTTP/1.1\u001b[0m\" 200 -\n",
      "172.19.0.2 - - [07/Jun/2019 11:45:55] \"\u001b[37mPOST /update HTTP/1.1\u001b[0m\" 200 -\n"
     ]
    },
    {
     "name": "stderr",
     "output_type": "stream",
     "text": [
      "172.19.0.2 - - [07/Jun/2019 11:45:55] \"\u001b[37mPOST /update HTTP/1.1\u001b[0m\" 200 -\n",
      "172.19.0.2 - - [07/Jun/2019 11:45:55] \"\u001b[37mGET /parameters HTTP/1.1\u001b[0m\" 200 -\n",
      "172.19.0.2 - - [07/Jun/2019 11:45:55] \"\u001b[37mGET /parameters HTTP/1.1\u001b[0m\" 200 -\n",
      "172.19.0.2 - - [07/Jun/2019 11:45:55] \"\u001b[37mPOST /update HTTP/1.1\u001b[0m\" 200 -\n",
      "172.19.0.2 - - [07/Jun/2019 11:45:55] \"\u001b[37mGET /parameters HTTP/1.1\u001b[0m\" 200 -\n",
      "172.19.0.2 - - [07/Jun/2019 11:45:56] \"\u001b[37mPOST /update HTTP/1.1\u001b[0m\" 200 -\n",
      "172.19.0.2 - - [07/Jun/2019 11:45:56] \"\u001b[37mGET /parameters HTTP/1.1\u001b[0m\" 200 -\n",
      "172.19.0.2 - - [07/Jun/2019 11:45:57] \"\u001b[37mPOST /update HTTP/1.1\u001b[0m\" 200 -\n",
      "172.19.0.2 - - [07/Jun/2019 11:45:57] \"\u001b[37mGET /parameters HTTP/1.1\u001b[0m\" 200 -\n",
      "172.19.0.2 - - [07/Jun/2019 11:45:57] \"\u001b[37mPOST /update HTTP/1.1\u001b[0m\" 200 -\n",
      "172.19.0.2 - - [07/Jun/2019 11:45:57] \"\u001b[37mPOST /update HTTP/1.1\u001b[0m\" 200 -\n",
      "172.19.0.2 - - [07/Jun/2019 11:45:57] \"\u001b[37mGET /parameters HTTP/1.1\u001b[0m\" 200 -\n",
      "172.19.0.2 - - [07/Jun/2019 11:45:57] \"\u001b[37mGET /parameters HTTP/1.1\u001b[0m\" 200 -\n",
      "172.19.0.2 - - [07/Jun/2019 11:45:58] \"\u001b[37mPOST /update HTTP/1.1\u001b[0m\" 200 -\n",
      "172.19.0.2 - - [07/Jun/2019 11:45:59] \"\u001b[37mGET /parameters HTTP/1.1\u001b[0m\" 200 -\n",
      "172.19.0.2 - - [07/Jun/2019 11:45:59] \"\u001b[37mPOST /update HTTP/1.1\u001b[0m\" 200 -\n",
      "172.19.0.2 - - [07/Jun/2019 11:45:59] \"\u001b[37mGET /parameters HTTP/1.1\u001b[0m\" 200 -\n",
      "172.19.0.2 - - [07/Jun/2019 11:46:00] \"\u001b[37mPOST /update HTTP/1.1\u001b[0m\" 200 -\n",
      "172.19.0.2 - - [07/Jun/2019 11:46:00] \"\u001b[37mGET /parameters HTTP/1.1\u001b[0m\" 200 -\n",
      "172.19.0.2 - - [07/Jun/2019 11:46:00] \"\u001b[37mPOST /update HTTP/1.1\u001b[0m\" 200 -\n",
      "172.19.0.2 - - [07/Jun/2019 11:46:00] \"\u001b[37mPOST /update HTTP/1.1\u001b[0m\" 200 -\n",
      "172.19.0.2 - - [07/Jun/2019 11:46:01] \"\u001b[37mGET /parameters HTTP/1.1\u001b[0m\" 200 -\n",
      "172.19.0.2 - - [07/Jun/2019 11:46:01] \"\u001b[37mGET /parameters HTTP/1.1\u001b[0m\" 200 -\n",
      "172.19.0.2 - - [07/Jun/2019 11:46:01] \"\u001b[37mPOST /update HTTP/1.1\u001b[0m\" 200 -\n",
      "172.19.0.2 - - [07/Jun/2019 11:46:01] \"\u001b[37mGET /parameters HTTP/1.1\u001b[0m\" 200 -\n",
      "172.19.0.2 - - [07/Jun/2019 11:46:02] \"\u001b[37mPOST /update HTTP/1.1\u001b[0m\" 200 -\n",
      "172.19.0.2 - - [07/Jun/2019 11:46:02] \"\u001b[37mGET /parameters HTTP/1.1\u001b[0m\" 200 -\n",
      "172.19.0.2 - - [07/Jun/2019 11:46:03] \"\u001b[37mPOST /update HTTP/1.1\u001b[0m\" 200 -\n",
      "172.19.0.2 - - [07/Jun/2019 11:46:03] \"\u001b[37mGET /parameters HTTP/1.1\u001b[0m\" 200 -\n",
      "172.19.0.2 - - [07/Jun/2019 11:46:03] \"\u001b[37mPOST /update HTTP/1.1\u001b[0m\" 200 -\n",
      "172.19.0.2 - - [07/Jun/2019 11:46:03] \"\u001b[37mGET /parameters HTTP/1.1\u001b[0m\" 200 -\n",
      "172.19.0.2 - - [07/Jun/2019 11:46:03] \"\u001b[37mPOST /update HTTP/1.1\u001b[0m\" 200 -\n",
      "172.19.0.2 - - [07/Jun/2019 11:46:03] \"\u001b[37mGET /parameters HTTP/1.1\u001b[0m\" 200 -\n",
      "172.19.0.2 - - [07/Jun/2019 11:46:04] \"\u001b[37mPOST /update HTTP/1.1\u001b[0m\" 200 -\n",
      "172.19.0.2 - - [07/Jun/2019 11:46:04] \"\u001b[37mGET /parameters HTTP/1.1\u001b[0m\" 200 -\n",
      "172.19.0.2 - - [07/Jun/2019 11:46:05] \"\u001b[37mPOST /update HTTP/1.1\u001b[0m\" 200 -\n",
      "172.19.0.2 - - [07/Jun/2019 11:46:05] \"\u001b[37mGET /parameters HTTP/1.1\u001b[0m\" 200 -\n",
      "172.19.0.2 - - [07/Jun/2019 11:46:06] \"\u001b[37mPOST /update HTTP/1.1\u001b[0m\" 200 -\n",
      "172.19.0.2 - - [07/Jun/2019 11:46:06] \"\u001b[37mGET /parameters HTTP/1.1\u001b[0m\" 200 -\n",
      "172.19.0.2 - - [07/Jun/2019 11:46:06] \"\u001b[37mPOST /update HTTP/1.1\u001b[0m\" 200 -\n",
      "172.19.0.2 - - [07/Jun/2019 11:46:06] \"\u001b[37mGET /parameters HTTP/1.1\u001b[0m\" 200 -\n",
      "172.19.0.2 - - [07/Jun/2019 11:46:06] \"\u001b[37mPOST /update HTTP/1.1\u001b[0m\" 200 -\n",
      "172.19.0.2 - - [07/Jun/2019 11:46:06] \"\u001b[37mGET /parameters HTTP/1.1\u001b[0m\" 200 -\n",
      "172.19.0.2 - - [07/Jun/2019 11:46:07] \"\u001b[37mPOST /update HTTP/1.1\u001b[0m\" 200 -\n",
      "172.19.0.2 - - [07/Jun/2019 11:46:07] \"\u001b[37mGET /parameters HTTP/1.1\u001b[0m\" 200 -\n",
      "172.19.0.2 - - [07/Jun/2019 11:46:08] \"\u001b[37mPOST /update HTTP/1.1\u001b[0m\" 200 -\n",
      "172.19.0.2 - - [07/Jun/2019 11:46:08] \"\u001b[37mGET /parameters HTTP/1.1\u001b[0m\" 200 -\n",
      "172.19.0.2 - - [07/Jun/2019 11:46:08] \"\u001b[37mPOST /update HTTP/1.1\u001b[0m\" 200 -\n",
      "172.19.0.2 - - [07/Jun/2019 11:46:08] \"\u001b[37mGET /parameters HTTP/1.1\u001b[0m\" 200 -\n",
      "172.19.0.2 - - [07/Jun/2019 11:46:08] \"\u001b[37mPOST /update HTTP/1.1\u001b[0m\" 200 -\n",
      "172.19.0.2 - - [07/Jun/2019 11:46:08] \"\u001b[37mGET /parameters HTTP/1.1\u001b[0m\" 200 -\n",
      "172.19.0.2 - - [07/Jun/2019 11:46:10] \"\u001b[37mPOST /update HTTP/1.1\u001b[0m\" 200 -\n",
      "172.19.0.2 - - [07/Jun/2019 11:46:10] \"\u001b[37mGET /parameters HTTP/1.1\u001b[0m\" 200 -\n",
      "172.19.0.2 - - [07/Jun/2019 11:46:10] \"\u001b[37mPOST /update HTTP/1.1\u001b[0m\" 200 -\n",
      "172.19.0.2 - - [07/Jun/2019 11:46:10] \"\u001b[37mPOST /update HTTP/1.1\u001b[0m\" 200 -\n",
      "172.19.0.2 - - [07/Jun/2019 11:46:10] \"\u001b[37mGET /parameters HTTP/1.1\u001b[0m\" 200 -\n",
      "172.19.0.2 - - [07/Jun/2019 11:46:10] \"\u001b[37mGET /parameters HTTP/1.1\u001b[0m\" 200 -\n",
      "172.19.0.2 - - [07/Jun/2019 11:46:10] \"\u001b[37mPOST /update HTTP/1.1\u001b[0m\" 200 -\n",
      "172.19.0.2 - - [07/Jun/2019 11:46:10] \"\u001b[37mGET /parameters HTTP/1.1\u001b[0m\" 200 -\n",
      "172.19.0.2 - - [07/Jun/2019 11:46:12] \"\u001b[37mPOST /update HTTP/1.1\u001b[0m\" 200 -\n",
      "172.19.0.2 - - [07/Jun/2019 11:46:12] \"\u001b[37mGET /parameters HTTP/1.1\u001b[0m\" 200 -\n",
      "172.19.0.2 - - [07/Jun/2019 11:46:12] \"\u001b[37mPOST /update HTTP/1.1\u001b[0m\" 200 -\n",
      "172.19.0.2 - - [07/Jun/2019 11:46:12] \"\u001b[37mGET /parameters HTTP/1.1\u001b[0m\" 200 -\n",
      "172.19.0.2 - - [07/Jun/2019 11:46:13] \"\u001b[37mPOST /update HTTP/1.1\u001b[0m\" 200 -\n",
      "172.19.0.2 - - [07/Jun/2019 11:46:13] \"\u001b[37mPOST /update HTTP/1.1\u001b[0m\" 200 -\n",
      "172.19.0.2 - - [07/Jun/2019 11:46:13] \"\u001b[37mGET /parameters HTTP/1.1\u001b[0m\" 200 -\n",
      "172.19.0.2 - - [07/Jun/2019 11:46:13] \"\u001b[37mGET /parameters HTTP/1.1\u001b[0m\" 200 -\n",
      "172.19.0.2 - - [07/Jun/2019 11:46:14] \"\u001b[37mPOST /update HTTP/1.1\u001b[0m\" 200 -\n",
      "172.19.0.2 - - [07/Jun/2019 11:46:14] \"\u001b[37mGET /parameters HTTP/1.1\u001b[0m\" 200 -\n",
      "172.19.0.2 - - [07/Jun/2019 11:46:15] \"\u001b[37mPOST /update HTTP/1.1\u001b[0m\" 200 -\n",
      "172.19.0.2 - - [07/Jun/2019 11:46:15] \"\u001b[37mPOST /update HTTP/1.1\u001b[0m\" 200 -\n",
      "172.19.0.2 - - [07/Jun/2019 11:46:15] \"\u001b[37mGET /parameters HTTP/1.1\u001b[0m\" 200 -\n",
      "172.19.0.2 - - [07/Jun/2019 11:46:15] \"\u001b[37mGET /parameters HTTP/1.1\u001b[0m\" 200 -\n",
      "172.19.0.2 - - [07/Jun/2019 11:46:15] \"\u001b[37mPOST /update HTTP/1.1\u001b[0m\" 200 -\n",
      "172.19.0.2 - - [07/Jun/2019 11:46:15] \"\u001b[37mGET /parameters HTTP/1.1\u001b[0m\" 200 -\n",
      "172.19.0.2 - - [07/Jun/2019 11:46:16] \"\u001b[37mPOST /update HTTP/1.1\u001b[0m\" 200 -\n",
      "172.19.0.2 - - [07/Jun/2019 11:46:16] \"\u001b[37mGET /parameters HTTP/1.1\u001b[0m\" 200 -\n",
      "172.19.0.2 - - [07/Jun/2019 11:46:17] \"\u001b[37mPOST /update HTTP/1.1\u001b[0m\" 200 -\n",
      "172.19.0.2 - - [07/Jun/2019 11:46:17] \"\u001b[37mGET /parameters HTTP/1.1\u001b[0m\" 200 -\n",
      "172.19.0.2 - - [07/Jun/2019 11:46:17] \"\u001b[37mPOST /update HTTP/1.1\u001b[0m\" 200 -\n",
      "172.19.0.2 - - [07/Jun/2019 11:46:17] \"\u001b[37mGET /parameters HTTP/1.1\u001b[0m\" 200 -\n",
      "172.19.0.2 - - [07/Jun/2019 11:46:17] \"\u001b[37mPOST /update HTTP/1.1\u001b[0m\" 200 -\n",
      "172.19.0.2 - - [07/Jun/2019 11:46:17] \"\u001b[37mGET /parameters HTTP/1.1\u001b[0m\" 200 -\n",
      "172.19.0.2 - - [07/Jun/2019 11:46:18] \"\u001b[37mPOST /update HTTP/1.1\u001b[0m\" 200 -\n",
      "172.19.0.2 - - [07/Jun/2019 11:46:18] \"\u001b[37mGET /parameters HTTP/1.1\u001b[0m\" 200 -\n",
      "172.19.0.2 - - [07/Jun/2019 11:46:19] \"\u001b[37mPOST /update HTTP/1.1\u001b[0m\" 200 -\n",
      "172.19.0.2 - - [07/Jun/2019 11:46:19] \"\u001b[37mGET /parameters HTTP/1.1\u001b[0m\" 200 -\n",
      "172.19.0.2 - - [07/Jun/2019 11:46:19] \"\u001b[37mPOST /update HTTP/1.1\u001b[0m\" 200 -\n",
      "172.19.0.2 - - [07/Jun/2019 11:46:19] \"\u001b[37mGET /parameters HTTP/1.1\u001b[0m\" 200 -\n",
      "172.19.0.2 - - [07/Jun/2019 11:46:19] \"\u001b[37mPOST /update HTTP/1.1\u001b[0m\" 200 -\n",
      "172.19.0.2 - - [07/Jun/2019 11:46:19] \"\u001b[37mGET /parameters HTTP/1.1\u001b[0m\" 200 -\n",
      "172.19.0.2 - - [07/Jun/2019 11:46:20] \"\u001b[37mPOST /update HTTP/1.1\u001b[0m\" 200 -\n",
      "172.19.0.2 - - [07/Jun/2019 11:46:20] \"\u001b[37mGET /parameters HTTP/1.1\u001b[0m\" 200 -\n",
      "172.19.0.2 - - [07/Jun/2019 11:46:21] \"\u001b[37mPOST /update HTTP/1.1\u001b[0m\" 200 -\n",
      "172.19.0.2 - - [07/Jun/2019 11:46:21] \"\u001b[37mGET /parameters HTTP/1.1\u001b[0m\" 200 -\n",
      "172.19.0.2 - - [07/Jun/2019 11:46:22] \"\u001b[37mPOST /update HTTP/1.1\u001b[0m\" 200 -\n",
      "172.19.0.2 - - [07/Jun/2019 11:46:22] \"\u001b[37mGET /parameters HTTP/1.1\u001b[0m\" 200 -\n",
      "172.19.0.2 - - [07/Jun/2019 11:46:22] \"\u001b[37mPOST /update HTTP/1.1\u001b[0m\" 200 -\n",
      "172.19.0.2 - - [07/Jun/2019 11:46:22] \"\u001b[37mGET /parameters HTTP/1.1\u001b[0m\" 200 -\n",
      "172.19.0.2 - - [07/Jun/2019 11:46:23] \"\u001b[37mPOST /update HTTP/1.1\u001b[0m\" 200 -\n",
      "172.19.0.2 - - [07/Jun/2019 11:46:23] \"\u001b[37mGET /parameters HTTP/1.1\u001b[0m\" 200 -\n",
      "172.19.0.2 - - [07/Jun/2019 11:46:23] \"\u001b[37mPOST /update HTTP/1.1\u001b[0m\" 200 -\n",
      "172.19.0.2 - - [07/Jun/2019 11:46:23] \"\u001b[37mGET /parameters HTTP/1.1\u001b[0m\" 200 -\n",
      "172.19.0.2 - - [07/Jun/2019 11:46:24] \"\u001b[37mPOST /update HTTP/1.1\u001b[0m\" 200 -\n",
      "172.19.0.2 - - [07/Jun/2019 11:46:24] \"\u001b[37mGET /parameters HTTP/1.1\u001b[0m\" 200 -\n"
     ]
    },
    {
     "name": "stderr",
     "output_type": "stream",
     "text": [
      "172.19.0.2 - - [07/Jun/2019 11:46:24] \"\u001b[37mPOST /update HTTP/1.1\u001b[0m\" 200 -\n",
      "172.19.0.2 - - [07/Jun/2019 11:46:24] \"\u001b[37mGET /parameters HTTP/1.1\u001b[0m\" 200 -\n",
      "172.19.0.2 - - [07/Jun/2019 11:46:24] \"\u001b[37mPOST /update HTTP/1.1\u001b[0m\" 200 -\n",
      "172.19.0.2 - - [07/Jun/2019 11:46:25] \"\u001b[37mGET /parameters HTTP/1.1\u001b[0m\" 200 -\n",
      "172.19.0.2 - - [07/Jun/2019 11:46:25] \"\u001b[37mPOST /update HTTP/1.1\u001b[0m\" 200 -\n",
      "172.19.0.2 - - [07/Jun/2019 11:46:25] \"\u001b[37mGET /parameters HTTP/1.1\u001b[0m\" 200 -\n",
      "172.19.0.2 - - [07/Jun/2019 11:46:26] \"\u001b[37mPOST /update HTTP/1.1\u001b[0m\" 200 -\n",
      "172.19.0.2 - - [07/Jun/2019 11:46:26] \"\u001b[37mGET /parameters HTTP/1.1\u001b[0m\" 200 -\n",
      "172.19.0.2 - - [07/Jun/2019 11:46:27] \"\u001b[37mPOST /update HTTP/1.1\u001b[0m\" 200 -\n",
      "172.19.0.2 - - [07/Jun/2019 11:46:27] \"\u001b[37mPOST /update HTTP/1.1\u001b[0m\" 200 -\n",
      "172.19.0.2 - - [07/Jun/2019 11:46:27] \"\u001b[37mGET /parameters HTTP/1.1\u001b[0m\" 200 -\n",
      "172.19.0.2 - - [07/Jun/2019 11:46:27] \"\u001b[37mGET /parameters HTTP/1.1\u001b[0m\" 200 -\n",
      "172.19.0.2 - - [07/Jun/2019 11:46:27] \"\u001b[37mPOST /update HTTP/1.1\u001b[0m\" 200 -\n",
      "172.19.0.2 - - [07/Jun/2019 11:46:27] \"\u001b[37mGET /parameters HTTP/1.1\u001b[0m\" 200 -\n",
      "172.19.0.2 - - [07/Jun/2019 11:46:29] \"\u001b[37mPOST /update HTTP/1.1\u001b[0m\" 200 -\n",
      "172.19.0.2 - - [07/Jun/2019 11:46:29] \"\u001b[37mPOST /update HTTP/1.1\u001b[0m\" 200 -\n",
      "172.19.0.2 - - [07/Jun/2019 11:46:29] \"\u001b[37mGET /parameters HTTP/1.1\u001b[0m\" 200 -\n",
      "172.19.0.2 - - [07/Jun/2019 11:46:29] \"\u001b[37mGET /parameters HTTP/1.1\u001b[0m\" 200 -\n",
      "172.19.0.2 - - [07/Jun/2019 11:46:29] \"\u001b[37mPOST /update HTTP/1.1\u001b[0m\" 200 -\n",
      "172.19.0.2 - - [07/Jun/2019 11:46:29] \"\u001b[37mPOST /update HTTP/1.1\u001b[0m\" 200 -\n",
      "172.19.0.2 - - [07/Jun/2019 11:46:29] \"\u001b[37mGET /parameters HTTP/1.1\u001b[0m\" 200 -\n",
      "172.19.0.2 - - [07/Jun/2019 11:46:30] \"\u001b[37mGET /parameters HTTP/1.1\u001b[0m\" 200 -\n",
      "172.19.0.2 - - [07/Jun/2019 11:46:31] \"\u001b[37mPOST /update HTTP/1.1\u001b[0m\" 200 -\n",
      "172.19.0.2 - - [07/Jun/2019 11:46:31] \"\u001b[37mGET /parameters HTTP/1.1\u001b[0m\" 200 -\n",
      "172.19.0.2 - - [07/Jun/2019 11:46:31] \"\u001b[37mPOST /update HTTP/1.1\u001b[0m\" 200 -\n",
      "172.19.0.2 - - [07/Jun/2019 11:46:31] \"\u001b[37mGET /parameters HTTP/1.1\u001b[0m\" 200 -\n",
      "172.19.0.2 - - [07/Jun/2019 11:46:31] \"\u001b[37mPOST /update HTTP/1.1\u001b[0m\" 200 -\n",
      "172.19.0.2 - - [07/Jun/2019 11:46:31] \"\u001b[37mGET /parameters HTTP/1.1\u001b[0m\" 200 -\n",
      "172.19.0.2 - - [07/Jun/2019 11:46:32] \"\u001b[37mPOST /update HTTP/1.1\u001b[0m\" 200 -\n",
      "172.19.0.2 - - [07/Jun/2019 11:46:32] \"\u001b[37mGET /parameters HTTP/1.1\u001b[0m\" 200 -\n",
      "172.19.0.2 - - [07/Jun/2019 11:46:33] \"\u001b[37mPOST /update HTTP/1.1\u001b[0m\" 200 -\n",
      "172.19.0.2 - - [07/Jun/2019 11:46:33] \"\u001b[37mGET /parameters HTTP/1.1\u001b[0m\" 200 -\n",
      "172.19.0.2 - - [07/Jun/2019 11:46:33] \"\u001b[37mPOST /update HTTP/1.1\u001b[0m\" 200 -\n",
      "172.19.0.2 - - [07/Jun/2019 11:46:33] \"\u001b[37mPOST /update HTTP/1.1\u001b[0m\" 200 -\n",
      "172.19.0.2 - - [07/Jun/2019 11:46:33] \"\u001b[37mGET /parameters HTTP/1.1\u001b[0m\" 200 -\n",
      "172.19.0.2 - - [07/Jun/2019 11:46:34] \"\u001b[37mGET /parameters HTTP/1.1\u001b[0m\" 200 -\n",
      "172.19.0.2 - - [07/Jun/2019 11:46:34] \"\u001b[37mPOST /update HTTP/1.1\u001b[0m\" 200 -\n",
      "172.19.0.2 - - [07/Jun/2019 11:46:34] \"\u001b[37mGET /parameters HTTP/1.1\u001b[0m\" 200 -\n",
      "172.19.0.2 - - [07/Jun/2019 11:46:35] \"\u001b[37mPOST /update HTTP/1.1\u001b[0m\" 200 -\n",
      "172.19.0.2 - - [07/Jun/2019 11:46:35] \"\u001b[37mGET /parameters HTTP/1.1\u001b[0m\" 200 -\n",
      "172.19.0.2 - - [07/Jun/2019 11:46:35] \"\u001b[37mPOST /update HTTP/1.1\u001b[0m\" 200 -\n",
      "172.19.0.2 - - [07/Jun/2019 11:46:35] \"\u001b[37mGET /parameters HTTP/1.1\u001b[0m\" 200 -\n",
      "172.19.0.2 - - [07/Jun/2019 11:46:35] \"\u001b[37mPOST /update HTTP/1.1\u001b[0m\" 200 -\n",
      "172.19.0.2 - - [07/Jun/2019 11:46:36] \"\u001b[37mGET /parameters HTTP/1.1\u001b[0m\" 200 -\n",
      "172.19.0.2 - - [07/Jun/2019 11:46:36] \"\u001b[37mPOST /update HTTP/1.1\u001b[0m\" 200 -\n",
      "172.19.0.2 - - [07/Jun/2019 11:46:36] \"\u001b[37mGET /parameters HTTP/1.1\u001b[0m\" 200 -\n",
      "172.19.0.2 - - [07/Jun/2019 11:46:37] \"\u001b[37mPOST /update HTTP/1.1\u001b[0m\" 200 -\n",
      "172.19.0.2 - - [07/Jun/2019 11:46:37] \"\u001b[37mPOST /update HTTP/1.1\u001b[0m\" 200 -\n",
      "172.19.0.2 - - [07/Jun/2019 11:46:37] \"\u001b[37mGET /parameters HTTP/1.1\u001b[0m\" 200 -\n",
      "172.19.0.2 - - [07/Jun/2019 11:46:37] \"\u001b[37mGET /parameters HTTP/1.1\u001b[0m\" 200 -\n",
      "172.19.0.2 - - [07/Jun/2019 11:46:38] \"\u001b[37mPOST /update HTTP/1.1\u001b[0m\" 200 -\n",
      "172.19.0.2 - - [07/Jun/2019 11:46:38] \"\u001b[37mGET /parameters HTTP/1.1\u001b[0m\" 200 -\n",
      "172.19.0.2 - - [07/Jun/2019 11:46:38] \"\u001b[37mPOST /update HTTP/1.1\u001b[0m\" 200 -\n",
      "172.19.0.2 - - [07/Jun/2019 11:46:38] \"\u001b[37mGET /parameters HTTP/1.1\u001b[0m\" 200 -\n",
      "172.19.0.2 - - [07/Jun/2019 11:46:39] \"\u001b[37mPOST /update HTTP/1.1\u001b[0m\" 200 -\n",
      "172.19.0.2 - - [07/Jun/2019 11:46:39] \"\u001b[37mGET /parameters HTTP/1.1\u001b[0m\" 200 -\n",
      "172.19.0.2 - - [07/Jun/2019 11:46:40] \"\u001b[37mPOST /update HTTP/1.1\u001b[0m\" 200 -\n",
      "172.19.0.2 - - [07/Jun/2019 11:46:40] \"\u001b[37mGET /parameters HTTP/1.1\u001b[0m\" 200 -\n",
      "172.19.0.2 - - [07/Jun/2019 11:46:40] \"\u001b[37mPOST /update HTTP/1.1\u001b[0m\" 200 -\n",
      "172.19.0.2 - - [07/Jun/2019 11:46:40] \"\u001b[37mGET /parameters HTTP/1.1\u001b[0m\" 200 -\n",
      "172.19.0.2 - - [07/Jun/2019 11:46:41] \"\u001b[37mPOST /update HTTP/1.1\u001b[0m\" 200 -\n",
      "172.19.0.2 - - [07/Jun/2019 11:46:41] \"\u001b[37mGET /parameters HTTP/1.1\u001b[0m\" 200 -\n",
      "172.19.0.2 - - [07/Jun/2019 11:46:41] \"\u001b[37mPOST /update HTTP/1.1\u001b[0m\" 200 -\n",
      "172.19.0.2 - - [07/Jun/2019 11:46:41] \"\u001b[37mGET /parameters HTTP/1.1\u001b[0m\" 200 -\n",
      "172.19.0.2 - - [07/Jun/2019 11:46:42] \"\u001b[37mPOST /update HTTP/1.1\u001b[0m\" 200 -\n",
      "172.19.0.2 - - [07/Jun/2019 11:46:42] \"\u001b[37mGET /parameters HTTP/1.1\u001b[0m\" 200 -\n",
      "172.19.0.2 - - [07/Jun/2019 11:46:42] \"\u001b[37mPOST /update HTTP/1.1\u001b[0m\" 200 -\n",
      "172.19.0.2 - - [07/Jun/2019 11:46:42] \"\u001b[37mGET /parameters HTTP/1.1\u001b[0m\" 200 -\n",
      "172.19.0.2 - - [07/Jun/2019 11:46:43] \"\u001b[37mPOST /update HTTP/1.1\u001b[0m\" 200 -\n",
      "172.19.0.2 - - [07/Jun/2019 11:46:43] \"\u001b[37mGET /parameters HTTP/1.1\u001b[0m\" 200 -\n",
      "172.19.0.2 - - [07/Jun/2019 11:46:44] \"\u001b[37mPOST /update HTTP/1.1\u001b[0m\" 200 -\n",
      "172.19.0.2 - - [07/Jun/2019 11:46:44] \"\u001b[37mGET /parameters HTTP/1.1\u001b[0m\" 200 -\n",
      "172.19.0.2 - - [07/Jun/2019 11:46:44] \"\u001b[37mPOST /update HTTP/1.1\u001b[0m\" 200 -\n",
      "172.19.0.2 - - [07/Jun/2019 11:46:44] \"\u001b[37mGET /parameters HTTP/1.1\u001b[0m\" 200 -\n",
      "172.19.0.2 - - [07/Jun/2019 11:46:44] \"\u001b[37mPOST /update HTTP/1.1\u001b[0m\" 200 -\n",
      "172.19.0.2 - - [07/Jun/2019 11:46:44] \"\u001b[37mGET /parameters HTTP/1.1\u001b[0m\" 200 -\n",
      "172.19.0.2 - - [07/Jun/2019 11:46:45] \"\u001b[37mPOST /update HTTP/1.1\u001b[0m\" 200 -\n",
      "172.19.0.2 - - [07/Jun/2019 11:46:45] \"\u001b[37mGET /parameters HTTP/1.1\u001b[0m\" 200 -\n",
      "172.19.0.2 - - [07/Jun/2019 11:46:46] \"\u001b[37mPOST /update HTTP/1.1\u001b[0m\" 200 -\n",
      "172.19.0.2 - - [07/Jun/2019 11:46:46] \"\u001b[37mPOST /update HTTP/1.1\u001b[0m\" 200 -\n",
      "172.19.0.2 - - [07/Jun/2019 11:46:46] \"\u001b[37mGET /parameters HTTP/1.1\u001b[0m\" 200 -\n",
      "172.19.0.2 - - [07/Jun/2019 11:46:46] \"\u001b[37mGET /parameters HTTP/1.1\u001b[0m\" 200 -\n",
      "172.19.0.2 - - [07/Jun/2019 11:46:47] \"\u001b[37mPOST /update HTTP/1.1\u001b[0m\" 200 -\n",
      "172.19.0.2 - - [07/Jun/2019 11:46:47] \"\u001b[37mGET /parameters HTTP/1.1\u001b[0m\" 200 -\n",
      "172.19.0.2 - - [07/Jun/2019 11:46:47] \"\u001b[37mPOST /update HTTP/1.1\u001b[0m\" 200 -\n",
      "172.19.0.2 - - [07/Jun/2019 11:46:47] \"\u001b[37mGET /parameters HTTP/1.1\u001b[0m\" 200 -\n",
      "172.19.0.2 - - [07/Jun/2019 11:46:48] \"\u001b[37mPOST /update HTTP/1.1\u001b[0m\" 200 -\n",
      "172.19.0.2 - - [07/Jun/2019 11:46:48] \"\u001b[37mGET /parameters HTTP/1.1\u001b[0m\" 200 -\n",
      "172.19.0.2 - - [07/Jun/2019 11:46:48] \"\u001b[37mPOST /update HTTP/1.1\u001b[0m\" 200 -\n",
      "172.19.0.2 - - [07/Jun/2019 11:46:48] \"\u001b[37mGET /parameters HTTP/1.1\u001b[0m\" 200 -\n",
      "172.19.0.2 - - [07/Jun/2019 11:46:49] \"\u001b[37mPOST /update HTTP/1.1\u001b[0m\" 200 -\n",
      "172.19.0.2 - - [07/Jun/2019 11:46:49] \"\u001b[37mGET /parameters HTTP/1.1\u001b[0m\" 200 -\n",
      "172.19.0.2 - - [07/Jun/2019 11:46:49] \"\u001b[37mPOST /update HTTP/1.1\u001b[0m\" 200 -\n",
      "172.19.0.2 - - [07/Jun/2019 11:46:49] \"\u001b[37mGET /parameters HTTP/1.1\u001b[0m\" 200 -\n",
      "172.19.0.2 - - [07/Jun/2019 11:46:50] \"\u001b[37mPOST /update HTTP/1.1\u001b[0m\" 200 -\n",
      "172.19.0.2 - - [07/Jun/2019 11:46:50] \"\u001b[37mGET /parameters HTTP/1.1\u001b[0m\" 200 -\n",
      "172.19.0.2 - - [07/Jun/2019 11:46:51] \"\u001b[37mPOST /update HTTP/1.1\u001b[0m\" 200 -\n",
      "172.19.0.2 - - [07/Jun/2019 11:46:51] \"\u001b[37mGET /parameters HTTP/1.1\u001b[0m\" 200 -\n",
      "172.19.0.2 - - [07/Jun/2019 11:46:51] \"\u001b[37mPOST /update HTTP/1.1\u001b[0m\" 200 -\n",
      "172.19.0.2 - - [07/Jun/2019 11:46:51] \"\u001b[37mGET /parameters HTTP/1.1\u001b[0m\" 200 -\n",
      "172.19.0.2 - - [07/Jun/2019 11:46:52] \"\u001b[37mPOST /update HTTP/1.1\u001b[0m\" 200 -\n",
      "172.19.0.2 - - [07/Jun/2019 11:46:52] \"\u001b[37mGET /parameters HTTP/1.1\u001b[0m\" 200 -\n",
      "172.19.0.2 - - [07/Jun/2019 11:46:53] \"\u001b[37mPOST /update HTTP/1.1\u001b[0m\" 200 -\n",
      "172.19.0.2 - - [07/Jun/2019 11:46:53] \"\u001b[37mGET /parameters HTTP/1.1\u001b[0m\" 200 -\n",
      "172.19.0.2 - - [07/Jun/2019 11:46:53] \"\u001b[37mPOST /update HTTP/1.1\u001b[0m\" 200 -\n"
     ]
    },
    {
     "name": "stderr",
     "output_type": "stream",
     "text": [
      "172.19.0.2 - - [07/Jun/2019 11:46:53] \"\u001b[37mGET /parameters HTTP/1.1\u001b[0m\" 200 -\n",
      "172.19.0.2 - - [07/Jun/2019 11:46:53] \"\u001b[37mPOST /update HTTP/1.1\u001b[0m\" 200 -\n",
      "172.19.0.2 - - [07/Jun/2019 11:46:53] \"\u001b[37mGET /parameters HTTP/1.1\u001b[0m\" 200 -\n",
      "172.19.0.2 - - [07/Jun/2019 11:46:54] \"\u001b[37mPOST /update HTTP/1.1\u001b[0m\" 200 -\n",
      "172.19.0.2 - - [07/Jun/2019 11:46:54] \"\u001b[37mPOST /update HTTP/1.1\u001b[0m\" 200 -\n",
      "172.19.0.2 - - [07/Jun/2019 11:46:54] \"\u001b[37mGET /parameters HTTP/1.1\u001b[0m\" 200 -\n",
      "172.19.0.2 - - [07/Jun/2019 11:46:55] \"\u001b[37mGET /parameters HTTP/1.1\u001b[0m\" 200 -\n",
      "172.19.0.2 - - [07/Jun/2019 11:46:55] \"\u001b[37mPOST /update HTTP/1.1\u001b[0m\" 200 -\n",
      "172.19.0.2 - - [07/Jun/2019 11:46:55] \"\u001b[37mGET /parameters HTTP/1.1\u001b[0m\" 200 -\n",
      "172.19.0.2 - - [07/Jun/2019 11:46:55] \"\u001b[37mPOST /update HTTP/1.1\u001b[0m\" 200 -\n",
      "172.19.0.2 - - [07/Jun/2019 11:46:55] \"\u001b[37mGET /parameters HTTP/1.1\u001b[0m\" 200 -\n",
      "172.19.0.2 - - [07/Jun/2019 11:46:56] \"\u001b[37mPOST /update HTTP/1.1\u001b[0m\" 200 -\n",
      "172.19.0.2 - - [07/Jun/2019 11:46:56] \"\u001b[37mGET /parameters HTTP/1.1\u001b[0m\" 200 -\n",
      "172.19.0.2 - - [07/Jun/2019 11:46:57] \"\u001b[37mPOST /update HTTP/1.1\u001b[0m\" 200 -\n",
      "172.19.0.2 - - [07/Jun/2019 11:46:57] \"\u001b[37mGET /parameters HTTP/1.1\u001b[0m\" 200 -\n",
      "172.19.0.2 - - [07/Jun/2019 11:46:57] \"\u001b[37mPOST /update HTTP/1.1\u001b[0m\" 200 -\n",
      "172.19.0.2 - - [07/Jun/2019 11:46:57] \"\u001b[37mGET /parameters HTTP/1.1\u001b[0m\" 200 -\n",
      "172.19.0.2 - - [07/Jun/2019 11:46:58] \"\u001b[37mPOST /update HTTP/1.1\u001b[0m\" 200 -\n",
      "172.19.0.2 - - [07/Jun/2019 11:46:58] \"\u001b[37mGET /parameters HTTP/1.1\u001b[0m\" 200 -\n",
      "172.19.0.2 - - [07/Jun/2019 11:46:59] \"\u001b[37mPOST /update HTTP/1.1\u001b[0m\" 200 -\n",
      "172.19.0.2 - - [07/Jun/2019 11:46:59] \"\u001b[37mGET /parameters HTTP/1.1\u001b[0m\" 200 -\n",
      "172.19.0.2 - - [07/Jun/2019 11:46:59] \"\u001b[37mPOST /update HTTP/1.1\u001b[0m\" 200 -\n",
      "172.19.0.2 - - [07/Jun/2019 11:46:59] \"\u001b[37mPOST /update HTTP/1.1\u001b[0m\" 200 -\n",
      "172.19.0.2 - - [07/Jun/2019 11:46:59] \"\u001b[37mGET /parameters HTTP/1.1\u001b[0m\" 200 -\n",
      "172.19.0.2 - - [07/Jun/2019 11:46:59] \"\u001b[37mGET /parameters HTTP/1.1\u001b[0m\" 200 -\n",
      "172.19.0.2 - - [07/Jun/2019 11:47:00] \"\u001b[37mPOST /update HTTP/1.1\u001b[0m\" 200 -\n",
      "172.19.0.2 - - [07/Jun/2019 11:47:00] \"\u001b[37mGET /parameters HTTP/1.1\u001b[0m\" 200 -\n",
      "172.19.0.2 - - [07/Jun/2019 11:47:01] \"\u001b[37mPOST /update HTTP/1.1\u001b[0m\" 200 -\n",
      "172.19.0.2 - - [07/Jun/2019 11:47:01] \"\u001b[37mGET /parameters HTTP/1.1\u001b[0m\" 200 -\n",
      "172.19.0.2 - - [07/Jun/2019 11:47:01] \"\u001b[37mPOST /update HTTP/1.1\u001b[0m\" 200 -\n",
      "172.19.0.2 - - [07/Jun/2019 11:47:01] \"\u001b[37mGET /parameters HTTP/1.1\u001b[0m\" 200 -\n",
      "172.19.0.2 - - [07/Jun/2019 11:47:01] \"\u001b[37mPOST /update HTTP/1.1\u001b[0m\" 200 -\n",
      "172.19.0.2 - - [07/Jun/2019 11:47:01] \"\u001b[37mGET /parameters HTTP/1.1\u001b[0m\" 200 -\n",
      "172.19.0.2 - - [07/Jun/2019 11:47:02] \"\u001b[37mPOST /update HTTP/1.1\u001b[0m\" 200 -\n",
      "172.19.0.2 - - [07/Jun/2019 11:47:02] \"\u001b[37mGET /parameters HTTP/1.1\u001b[0m\" 200 -\n",
      "172.19.0.2 - - [07/Jun/2019 11:47:03] \"\u001b[37mPOST /update HTTP/1.1\u001b[0m\" 200 -\n",
      "172.19.0.2 - - [07/Jun/2019 11:47:03] \"\u001b[37mGET /parameters HTTP/1.1\u001b[0m\" 200 -\n",
      "172.19.0.2 - - [07/Jun/2019 11:47:03] \"\u001b[37mPOST /update HTTP/1.1\u001b[0m\" 200 -\n",
      "172.19.0.2 - - [07/Jun/2019 11:47:03] \"\u001b[37mGET /parameters HTTP/1.1\u001b[0m\" 200 -\n",
      "172.19.0.2 - - [07/Jun/2019 11:47:04] \"\u001b[37mPOST /update HTTP/1.1\u001b[0m\" 200 -\n",
      "172.19.0.2 - - [07/Jun/2019 11:47:05] \"\u001b[37mPOST /update HTTP/1.1\u001b[0m\" 200 -\n",
      "172.19.0.2 - - [07/Jun/2019 11:47:05] \"\u001b[37mGET /parameters HTTP/1.1\u001b[0m\" 200 -\n",
      "172.19.0.2 - - [07/Jun/2019 11:47:05] \"\u001b[37mPOST /update HTTP/1.1\u001b[0m\" 200 -\n",
      "172.19.0.2 - - [07/Jun/2019 11:47:05] \"\u001b[37mGET /parameters HTTP/1.1\u001b[0m\" 200 -\n",
      "172.19.0.2 - - [07/Jun/2019 11:47:05] \"\u001b[37mPOST /update HTTP/1.1\u001b[0m\" 200 -\n",
      "172.19.0.2 - - [07/Jun/2019 11:47:06] \"\u001b[37mPOST /update HTTP/1.1\u001b[0m\" 200 -\n",
      "172.19.0.2 - - [07/Jun/2019 11:47:06] \"\u001b[37mPOST /update HTTP/1.1\u001b[0m\" 200 -\n",
      "172.19.0.2 - - [07/Jun/2019 11:47:06] \"\u001b[37mGET /parameters HTTP/1.1\u001b[0m\" 200 -\n",
      "172.19.0.2 - - [07/Jun/2019 11:47:06] \"\u001b[37mGET /parameters HTTP/1.1\u001b[0m\" 200 -\n",
      "172.19.0.2 - - [07/Jun/2019 11:47:07] \"\u001b[37mPOST /update HTTP/1.1\u001b[0m\" 200 -\n",
      "172.19.0.2 - - [07/Jun/2019 11:47:07] \"\u001b[37mGET /parameters HTTP/1.1\u001b[0m\" 200 -\n",
      "172.19.0.2 - - [07/Jun/2019 11:47:07] \"\u001b[37mPOST /update HTTP/1.1\u001b[0m\" 200 -\n",
      "172.19.0.2 - - [07/Jun/2019 11:47:07] \"\u001b[37mGET /parameters HTTP/1.1\u001b[0m\" 200 -\n",
      "172.19.0.2 - - [07/Jun/2019 11:47:08] \"\u001b[37mPOST /update HTTP/1.1\u001b[0m\" 200 -\n",
      "172.19.0.2 - - [07/Jun/2019 11:47:08] \"\u001b[37mGET /parameters HTTP/1.1\u001b[0m\" 200 -\n",
      "172.19.0.2 - - [07/Jun/2019 11:47:09] \"\u001b[37mPOST /update HTTP/1.1\u001b[0m\" 200 -\n",
      "172.19.0.2 - - [07/Jun/2019 11:47:09] \"\u001b[37mGET /parameters HTTP/1.1\u001b[0m\" 200 -\n",
      "172.19.0.2 - - [07/Jun/2019 11:47:10] \"\u001b[37mPOST /update HTTP/1.1\u001b[0m\" 200 -\n",
      "172.19.0.2 - - [07/Jun/2019 11:47:10] \"\u001b[37mGET /parameters HTTP/1.1\u001b[0m\" 200 -\n",
      "172.19.0.2 - - [07/Jun/2019 11:47:10] \"\u001b[37mPOST /update HTTP/1.1\u001b[0m\" 200 -\n",
      "172.19.0.2 - - [07/Jun/2019 11:47:10] \"\u001b[37mGET /parameters HTTP/1.1\u001b[0m\" 200 -\n",
      "172.19.0.2 - - [07/Jun/2019 11:47:11] \"\u001b[37mPOST /update HTTP/1.1\u001b[0m\" 200 -\n",
      "172.19.0.2 - - [07/Jun/2019 11:47:11] \"\u001b[37mPOST /update HTTP/1.1\u001b[0m\" 200 -\n",
      "172.19.0.2 - - [07/Jun/2019 11:47:11] \"\u001b[37mGET /parameters HTTP/1.1\u001b[0m\" 200 -\n",
      "172.19.0.2 - - [07/Jun/2019 11:47:12] \"\u001b[37mPOST /update HTTP/1.1\u001b[0m\" 200 -\n",
      "172.19.0.2 - - [07/Jun/2019 11:47:12] \"\u001b[37mGET /parameters HTTP/1.1\u001b[0m\" 200 -\n"
     ]
    },
    {
     "name": "stdout",
     "output_type": "stream",
     "text": [
      ">>> Async training complete.\n",
      "CPU times: user 1.74 s, sys: 562 ms, total: 2.31 s\n",
      "Wall time: 3min 54s\n"
     ]
    }
   ],
   "source": [
    "%%time\n",
    "from elephas.spark_model import SparkModel\n",
    "\n",
    "spark_model = SparkModel(model, frequency='epoch', mode='asynchronous')\n",
    "spark_model.fit(rdd, epochs=100, batch_size=512, verbose=1, validation_split=0.1) # verbose: 0"
   ]
  },
  {
   "cell_type": "code",
   "execution_count": 29,
   "metadata": {},
   "outputs": [],
   "source": [
    "# Your script can now be run using spark-submit:\n",
    "#   spark-submit --driver-memory 1G ./your_script.py"
   ]
  },
  {
   "cell_type": "markdown",
   "metadata": {},
   "source": [
    "### Distributed Spark/Keras predict"
   ]
  },
  {
   "cell_type": "code",
   "execution_count": 30,
   "metadata": {},
   "outputs": [
    {
     "name": "stdout",
     "output_type": "stream",
     "text": [
      "CPU times: user 1.01 s, sys: 123 ms, total: 1.13 s\n",
      "Wall time: 788 ms\n"
     ]
    }
   ],
   "source": [
    "%%time\n",
    "y_pred = spark_model.predict(x_test)\n",
    "# you can now save or use y_pred."
   ]
  },
  {
   "cell_type": "code",
   "execution_count": 32,
   "metadata": {},
   "outputs": [
    {
     "name": "stdout",
     "output_type": "stream",
     "text": [
      "25000/25000 [==============================] - 2s 67us/step\n",
      "Loss, Accuracy\n",
      "[0.3535123248338699, 0.88124]\n"
     ]
    }
   ],
   "source": [
    "results = model.evaluate(x_test, y_test)\n",
    "print('Loss, Accuracy')\n",
    "print(results)"
   ]
  },
  {
   "cell_type": "code",
   "execution_count": 33,
   "metadata": {},
   "outputs": [
    {
     "name": "stdout",
     "output_type": "stream",
     "text": [
      "25000/25000 [==============================] - 2s 90us/step\n",
      "Loss, Accuracy\n",
      "[0.08502692074835301, 0.97156]\n"
     ]
    }
   ],
   "source": [
    "results = model.evaluate(x_train, y_train)\n",
    "print('Loss, Accuracy')\n",
    "print(results)"
   ]
  }
 ],
 "metadata": {
  "kernelspec": {
   "display_name": "Python 3",
   "language": "python",
   "name": "python3"
  },
  "language_info": {
   "codemirror_mode": {
    "name": "ipython",
    "version": 3
   },
   "file_extension": ".py",
   "mimetype": "text/x-python",
   "name": "python",
   "nbconvert_exporter": "python",
   "pygments_lexer": "ipython3",
   "version": "3.7.3"
  }
 },
 "nbformat": 4,
 "nbformat_minor": 2
}
