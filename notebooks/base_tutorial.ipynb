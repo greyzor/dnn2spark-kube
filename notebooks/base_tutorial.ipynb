{
 "cells": [
  {
   "cell_type": "markdown",
   "metadata": {},
   "source": [
    "## Base Tutorial\n",
    "### https://blog.k2datascience.com/running-pyspark-with-jupyter-using-docker-61ca0aa7da6b"
   ]
  },
  {
   "cell_type": "code",
   "execution_count": 2,
   "metadata": {},
   "outputs": [
    {
     "name": "stdout",
     "output_type": "stream",
     "text": [
      "+------------------+----+\n",
      "|              name| age|\n",
      "+------------------+----+\n",
      "|  Albus Dumbledore| 150|\n",
      "|Minerva McGonagall|  70|\n",
      "|     Rubeus Hagrid|  63|\n",
      "|       Oliver Wood|  18|\n",
      "|      Harry Potter|  12|\n",
      "|       Ron Weasley|  12|\n",
      "|          Hermione|  13|\n",
      "|      Draco Malfoy|null|\n",
      "+------------------+----+\n",
      "\n"
     ]
    }
   ],
   "source": [
    "import pyspark\n",
    "\n",
    "spark = pyspark.sql.SparkSession.builder\\\n",
    "    .appName('hogwarts')\\\n",
    "    .getOrCreate()\n",
    "\n",
    "characters = [\n",
    "    (\"Albus Dumbledore\", 150),\n",
    "    (\"Minerva McGonagall\", 70),\n",
    "    (\"Rubeus Hagrid\", 63),\n",
    "    (\"Oliver Wood\", 18),\n",
    "    (\"Harry Potter\", 12),\n",
    "    (\"Ron Weasley\", 12),\n",
    "    (\"Hermione\", 13),\n",
    "    (\"Draco Malfoy\", None)\n",
    "]\n",
    "\n",
    "c_df = spark.createDataFrame(characters, [\"name\", \"age\"])    \n",
    "\n",
    "c_df.show()"
   ]
  }
 ],
 "metadata": {
  "kernelspec": {
   "display_name": "Python 3",
   "language": "python",
   "name": "python3"
  },
  "language_info": {
   "codemirror_mode": {
    "name": "ipython",
    "version": 3
   },
   "file_extension": ".py",
   "mimetype": "text/x-python",
   "name": "python",
   "nbconvert_exporter": "python",
   "pygments_lexer": "ipython3",
   "version": "3.7.3"
  }
 },
 "nbformat": 4,
 "nbformat_minor": 2
}
